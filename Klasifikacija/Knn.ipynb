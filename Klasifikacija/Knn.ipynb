{
 "cells": [
  {
   "cell_type": "code",
   "execution_count": 1,
   "id": "f2eb8c96",
   "metadata": {},
   "outputs": [],
   "source": [
    "import pandas as pd"
   ]
  },
  {
   "cell_type": "code",
   "execution_count": 2,
   "id": "fb75f6ce",
   "metadata": {},
   "outputs": [],
   "source": [
    "from sklearn.preprocessing import MinMaxScaler"
   ]
  },
  {
   "cell_type": "code",
   "execution_count": 3,
   "id": "e19b4e02",
   "metadata": {},
   "outputs": [],
   "source": [
    "from sklearn.model_selection import train_test_split"
   ]
  },
  {
   "cell_type": "code",
   "execution_count": 4,
   "id": "4525fe62",
   "metadata": {},
   "outputs": [],
   "source": [
    "from sklearn.model_selection import GridSearchCV"
   ]
  },
  {
   "cell_type": "code",
   "execution_count": 5,
   "id": "e1774867",
   "metadata": {},
   "outputs": [],
   "source": [
    "from sklearn.metrics import classification_report"
   ]
  },
  {
   "cell_type": "code",
   "execution_count": 6,
   "id": "45dd3735",
   "metadata": {},
   "outputs": [],
   "source": [
    "from sklearn.neighbors import KNeighborsClassifier"
   ]
  },
  {
   "cell_type": "code",
   "execution_count": 7,
   "id": "f0b76767",
   "metadata": {},
   "outputs": [
    {
     "data": {
      "text/html": [
       "<div>\n",
       "<style scoped>\n",
       "    .dataframe tbody tr th:only-of-type {\n",
       "        vertical-align: middle;\n",
       "    }\n",
       "\n",
       "    .dataframe tbody tr th {\n",
       "        vertical-align: top;\n",
       "    }\n",
       "\n",
       "    .dataframe thead th {\n",
       "        text-align: right;\n",
       "    }\n",
       "</style>\n",
       "<table border=\"1\" class=\"dataframe\">\n",
       "  <thead>\n",
       "    <tr style=\"text-align: right;\">\n",
       "      <th></th>\n",
       "      <th>Sepal_Length</th>\n",
       "      <th>Sepal_Width</th>\n",
       "      <th>Petal_Length</th>\n",
       "      <th>Petal_Width</th>\n",
       "      <th>Species</th>\n",
       "    </tr>\n",
       "  </thead>\n",
       "  <tbody>\n",
       "    <tr>\n",
       "      <th>0</th>\n",
       "      <td>5.1</td>\n",
       "      <td>3.5</td>\n",
       "      <td>1.4</td>\n",
       "      <td>0.2</td>\n",
       "      <td>setosa</td>\n",
       "    </tr>\n",
       "    <tr>\n",
       "      <th>1</th>\n",
       "      <td>4.9</td>\n",
       "      <td>3.0</td>\n",
       "      <td>1.4</td>\n",
       "      <td>0.2</td>\n",
       "      <td>setosa</td>\n",
       "    </tr>\n",
       "    <tr>\n",
       "      <th>2</th>\n",
       "      <td>4.7</td>\n",
       "      <td>3.2</td>\n",
       "      <td>1.3</td>\n",
       "      <td>0.2</td>\n",
       "      <td>setosa</td>\n",
       "    </tr>\n",
       "    <tr>\n",
       "      <th>3</th>\n",
       "      <td>4.6</td>\n",
       "      <td>3.1</td>\n",
       "      <td>1.5</td>\n",
       "      <td>0.2</td>\n",
       "      <td>setosa</td>\n",
       "    </tr>\n",
       "    <tr>\n",
       "      <th>4</th>\n",
       "      <td>5.0</td>\n",
       "      <td>3.6</td>\n",
       "      <td>1.4</td>\n",
       "      <td>0.2</td>\n",
       "      <td>setosa</td>\n",
       "    </tr>\n",
       "  </tbody>\n",
       "</table>\n",
       "</div>"
      ],
      "text/plain": [
       "   Sepal_Length  Sepal_Width  Petal_Length  Petal_Width Species\n",
       "0           5.1          3.5           1.4          0.2  setosa\n",
       "1           4.9          3.0           1.4          0.2  setosa\n",
       "2           4.7          3.2           1.3          0.2  setosa\n",
       "3           4.6          3.1           1.5          0.2  setosa\n",
       "4           5.0          3.6           1.4          0.2  setosa"
      ]
     },
     "execution_count": 7,
     "metadata": {},
     "output_type": "execute_result"
    }
   ],
   "source": [
    "df = pd.read_csv(\"data/iris.csv\")\n",
    "df.head()"
   ]
  },
  {
   "cell_type": "code",
   "execution_count": 8,
   "id": "b57761e0",
   "metadata": {},
   "outputs": [],
   "source": [
    "features = df.columns[:-1].tolist()\n",
    "x = df[features]\n",
    "y = df[\"Species\"]"
   ]
  },
  {
   "cell_type": "code",
   "execution_count": 30,
   "id": "ba55f333",
   "metadata": {},
   "outputs": [
    {
     "ename": "KeyError",
     "evalue": "'None of [0, 1, 2, 3, 4, 5, 6, 7, 8, 9, 10, 11, 12, 13, 14, 15, 16, 17, 18, 19, 20, 21, 22, 23, 24, 25, 26, 27, 28, 29, 30, 31, 32, 33, 34, 35, 36, 37, 38, 39, 40, 41, 42, 43, 44] are in the columns'",
     "output_type": "error",
     "traceback": [
      "\u001b[0;31m---------------------------------------------------------------------------\u001b[0m",
      "\u001b[0;31mKeyError\u001b[0m                                  Traceback (most recent call last)",
      "Input \u001b[0;32mIn [30]\u001b[0m, in \u001b[0;36m<cell line: 2>\u001b[0;34m()\u001b[0m\n\u001b[1;32m      1\u001b[0m x_train, x_test, y_train, y_test \u001b[38;5;241m=\u001b[39m train_test_split(x, y, test_size\u001b[38;5;241m=\u001b[39m\u001b[38;5;241m0.3\u001b[39m)\n\u001b[0;32m----> 2\u001b[0m \u001b[43mx_test\u001b[49m\u001b[38;5;241;43m.\u001b[39;49m\u001b[43mset_index\u001b[49m\u001b[43m(\u001b[49m\u001b[43m[\u001b[49m\u001b[43mx\u001b[49m\u001b[43m \u001b[49m\u001b[38;5;28;43;01mfor\u001b[39;49;00m\u001b[43m \u001b[49m\u001b[43mx\u001b[49m\u001b[43m \u001b[49m\u001b[38;5;129;43;01min\u001b[39;49;00m\u001b[43m \u001b[49m\u001b[38;5;28;43mrange\u001b[39;49m\u001b[43m(\u001b[49m\u001b[38;5;241;43m0\u001b[39;49m\u001b[43m,\u001b[49m\u001b[38;5;28;43mlen\u001b[39;49m\u001b[43m(\u001b[49m\u001b[43mx_test\u001b[49m\u001b[43m)\u001b[49m\u001b[43m)\u001b[49m\u001b[43m]\u001b[49m\u001b[43m)\u001b[49m\n\u001b[1;32m      3\u001b[0m x_train\u001b[38;5;241m.\u001b[39mreindex([x \u001b[38;5;28;01mfor\u001b[39;00m x \u001b[38;5;129;01min\u001b[39;00m \u001b[38;5;28mrange\u001b[39m(\u001b[38;5;241m0\u001b[39m,\u001b[38;5;28mlen\u001b[39m(x_train))])\n\u001b[1;32m      4\u001b[0m y_test\u001b[38;5;241m.\u001b[39mreindex([x \u001b[38;5;28;01mfor\u001b[39;00m x \u001b[38;5;129;01min\u001b[39;00m \u001b[38;5;28mrange\u001b[39m(\u001b[38;5;241m0\u001b[39m,\u001b[38;5;28mlen\u001b[39m(y_test))])\n",
      "File \u001b[0;32m~/.local/lib/python3.8/site-packages/pandas/util/_decorators.py:311\u001b[0m, in \u001b[0;36mdeprecate_nonkeyword_arguments.<locals>.decorate.<locals>.wrapper\u001b[0;34m(*args, **kwargs)\u001b[0m\n\u001b[1;32m    305\u001b[0m \u001b[38;5;28;01mif\u001b[39;00m \u001b[38;5;28mlen\u001b[39m(args) \u001b[38;5;241m>\u001b[39m num_allow_args:\n\u001b[1;32m    306\u001b[0m     warnings\u001b[38;5;241m.\u001b[39mwarn(\n\u001b[1;32m    307\u001b[0m         msg\u001b[38;5;241m.\u001b[39mformat(arguments\u001b[38;5;241m=\u001b[39marguments),\n\u001b[1;32m    308\u001b[0m         \u001b[38;5;167;01mFutureWarning\u001b[39;00m,\n\u001b[1;32m    309\u001b[0m         stacklevel\u001b[38;5;241m=\u001b[39mstacklevel,\n\u001b[1;32m    310\u001b[0m     )\n\u001b[0;32m--> 311\u001b[0m \u001b[38;5;28;01mreturn\u001b[39;00m \u001b[43mfunc\u001b[49m\u001b[43m(\u001b[49m\u001b[38;5;241;43m*\u001b[39;49m\u001b[43margs\u001b[49m\u001b[43m,\u001b[49m\u001b[43m \u001b[49m\u001b[38;5;241;43m*\u001b[39;49m\u001b[38;5;241;43m*\u001b[39;49m\u001b[43mkwargs\u001b[49m\u001b[43m)\u001b[49m\n",
      "File \u001b[0;32m~/.local/lib/python3.8/site-packages/pandas/core/frame.py:5494\u001b[0m, in \u001b[0;36mDataFrame.set_index\u001b[0;34m(self, keys, drop, append, inplace, verify_integrity)\u001b[0m\n\u001b[1;32m   5491\u001b[0m                 missing\u001b[38;5;241m.\u001b[39mappend(col)\n\u001b[1;32m   5493\u001b[0m \u001b[38;5;28;01mif\u001b[39;00m missing:\n\u001b[0;32m-> 5494\u001b[0m     \u001b[38;5;28;01mraise\u001b[39;00m \u001b[38;5;167;01mKeyError\u001b[39;00m(\u001b[38;5;124mf\u001b[39m\u001b[38;5;124m\"\u001b[39m\u001b[38;5;124mNone of \u001b[39m\u001b[38;5;132;01m{\u001b[39;00mmissing\u001b[38;5;132;01m}\u001b[39;00m\u001b[38;5;124m are in the columns\u001b[39m\u001b[38;5;124m\"\u001b[39m)\n\u001b[1;32m   5496\u001b[0m \u001b[38;5;28;01mif\u001b[39;00m inplace:\n\u001b[1;32m   5497\u001b[0m     frame \u001b[38;5;241m=\u001b[39m \u001b[38;5;28mself\u001b[39m\n",
      "\u001b[0;31mKeyError\u001b[0m: 'None of [0, 1, 2, 3, 4, 5, 6, 7, 8, 9, 10, 11, 12, 13, 14, 15, 16, 17, 18, 19, 20, 21, 22, 23, 24, 25, 26, 27, 28, 29, 30, 31, 32, 33, 34, 35, 36, 37, 38, 39, 40, 41, 42, 43, 44] are in the columns'"
     ]
    }
   ],
   "source": [
    "x_train, x_test, y_train, y_test = train_test_split(x, y, test_size=0.3)\n",
    "x_test.set_index([x for x in range(0,len(x_test))])\n",
    "x_train.reindex([x for x in range(0,len(x_train))])\n",
    "y_test.reindex([x for x in range(0,len(y_test))])\n",
    "y_train.reindex([x for x in range(0,len(y_train))])\n",
    "print(x_test)"
   ]
  },
  {
   "cell_type": "code",
   "execution_count": 10,
   "id": "49c66ff7",
   "metadata": {},
   "outputs": [],
   "source": [
    "mms = MinMaxScaler().fit(x_train)\n",
    "x_train_n = pd.DataFrame(mms.transform(x_train), columns=features)\n",
    "x_test_n = pd.DataFrame(mms.transform(x_test), columns=features)"
   ]
  },
  {
   "cell_type": "code",
   "execution_count": 11,
   "id": "aa7d608f",
   "metadata": {
    "scrolled": true
   },
   "outputs": [
    {
     "data": {
      "text/html": [
       "<div>\n",
       "<style scoped>\n",
       "    .dataframe tbody tr th:only-of-type {\n",
       "        vertical-align: middle;\n",
       "    }\n",
       "\n",
       "    .dataframe tbody tr th {\n",
       "        vertical-align: top;\n",
       "    }\n",
       "\n",
       "    .dataframe thead th {\n",
       "        text-align: right;\n",
       "    }\n",
       "</style>\n",
       "<table border=\"1\" class=\"dataframe\">\n",
       "  <thead>\n",
       "    <tr style=\"text-align: right;\">\n",
       "      <th></th>\n",
       "      <th>Sepal_Length</th>\n",
       "      <th>Sepal_Width</th>\n",
       "      <th>Petal_Length</th>\n",
       "      <th>Petal_Width</th>\n",
       "    </tr>\n",
       "  </thead>\n",
       "  <tbody>\n",
       "    <tr>\n",
       "      <th>0</th>\n",
       "      <td>0.176471</td>\n",
       "      <td>0.166667</td>\n",
       "      <td>0.403509</td>\n",
       "      <td>0.375000</td>\n",
       "    </tr>\n",
       "    <tr>\n",
       "      <th>1</th>\n",
       "      <td>0.705882</td>\n",
       "      <td>0.458333</td>\n",
       "      <td>0.649123</td>\n",
       "      <td>0.583333</td>\n",
       "    </tr>\n",
       "    <tr>\n",
       "      <th>2</th>\n",
       "      <td>0.617647</td>\n",
       "      <td>0.500000</td>\n",
       "      <td>0.754386</td>\n",
       "      <td>0.916667</td>\n",
       "    </tr>\n",
       "    <tr>\n",
       "      <th>3</th>\n",
       "      <td>0.705882</td>\n",
       "      <td>0.458333</td>\n",
       "      <td>0.807018</td>\n",
       "      <td>0.958333</td>\n",
       "    </tr>\n",
       "    <tr>\n",
       "      <th>4</th>\n",
       "      <td>0.411765</td>\n",
       "      <td>0.750000</td>\n",
       "      <td>0.122807</td>\n",
       "      <td>0.083333</td>\n",
       "    </tr>\n",
       "  </tbody>\n",
       "</table>\n",
       "</div>"
      ],
      "text/plain": [
       "   Sepal_Length  Sepal_Width  Petal_Length  Petal_Width\n",
       "0      0.176471     0.166667      0.403509     0.375000\n",
       "1      0.705882     0.458333      0.649123     0.583333\n",
       "2      0.617647     0.500000      0.754386     0.916667\n",
       "3      0.705882     0.458333      0.807018     0.958333\n",
       "4      0.411765     0.750000      0.122807     0.083333"
      ]
     },
     "execution_count": 11,
     "metadata": {},
     "output_type": "execute_result"
    }
   ],
   "source": [
    "x_train_n.head()"
   ]
  },
  {
   "cell_type": "code",
   "execution_count": 12,
   "id": "ef91b03a",
   "metadata": {},
   "outputs": [
    {
     "data": {
      "text/html": [
       "<div>\n",
       "<style scoped>\n",
       "    .dataframe tbody tr th:only-of-type {\n",
       "        vertical-align: middle;\n",
       "    }\n",
       "\n",
       "    .dataframe tbody tr th {\n",
       "        vertical-align: top;\n",
       "    }\n",
       "\n",
       "    .dataframe thead th {\n",
       "        text-align: right;\n",
       "    }\n",
       "</style>\n",
       "<table border=\"1\" class=\"dataframe\">\n",
       "  <thead>\n",
       "    <tr style=\"text-align: right;\">\n",
       "      <th></th>\n",
       "      <th>Sepal_Length</th>\n",
       "      <th>Sepal_Width</th>\n",
       "      <th>Petal_Length</th>\n",
       "      <th>Petal_Width</th>\n",
       "    </tr>\n",
       "  </thead>\n",
       "  <tbody>\n",
       "    <tr>\n",
       "      <th>0</th>\n",
       "      <td>0.529412</td>\n",
       "      <td>0.333333</td>\n",
       "      <td>0.649123</td>\n",
       "      <td>0.458333</td>\n",
       "    </tr>\n",
       "    <tr>\n",
       "      <th>1</th>\n",
       "      <td>0.205882</td>\n",
       "      <td>0.583333</td>\n",
       "      <td>0.105263</td>\n",
       "      <td>0.125000</td>\n",
       "    </tr>\n",
       "    <tr>\n",
       "      <th>2</th>\n",
       "      <td>0.235294</td>\n",
       "      <td>0.750000</td>\n",
       "      <td>0.087719</td>\n",
       "      <td>0.083333</td>\n",
       "    </tr>\n",
       "    <tr>\n",
       "      <th>3</th>\n",
       "      <td>0.235294</td>\n",
       "      <td>0.583333</td>\n",
       "      <td>0.087719</td>\n",
       "      <td>0.041667</td>\n",
       "    </tr>\n",
       "    <tr>\n",
       "      <th>4</th>\n",
       "      <td>0.176471</td>\n",
       "      <td>0.458333</td>\n",
       "      <td>0.087719</td>\n",
       "      <td>0.041667</td>\n",
       "    </tr>\n",
       "  </tbody>\n",
       "</table>\n",
       "</div>"
      ],
      "text/plain": [
       "   Sepal_Length  Sepal_Width  Petal_Length  Petal_Width\n",
       "0      0.529412     0.333333      0.649123     0.458333\n",
       "1      0.205882     0.583333      0.105263     0.125000\n",
       "2      0.235294     0.750000      0.087719     0.083333\n",
       "3      0.235294     0.583333      0.087719     0.041667\n",
       "4      0.176471     0.458333      0.087719     0.041667"
      ]
     },
     "execution_count": 12,
     "metadata": {},
     "output_type": "execute_result"
    }
   ],
   "source": [
    "x_test_n.head()"
   ]
  },
  {
   "cell_type": "code",
   "execution_count": 13,
   "id": "406d0453",
   "metadata": {},
   "outputs": [],
   "source": [
    "parameters = [{'n_neighbors': [3, 5, 6, 7, 9],\n",
    "              'p': [1, 2],\n",
    "              'weights': ['uniform', 'distance']}]\n",
    "clf_knn = GridSearchCV(KNeighborsClassifier(), param_grid=parameters, cv=5)"
   ]
  },
  {
   "cell_type": "code",
   "execution_count": 14,
   "id": "416a2f5c",
   "metadata": {},
   "outputs": [
    {
     "data": {
      "text/plain": [
       "{'n_neighbors': 6, 'p': 2, 'weights': 'distance'}"
      ]
     },
     "execution_count": 14,
     "metadata": {},
     "output_type": "execute_result"
    }
   ],
   "source": [
    "clf_knn.fit(x_train_n, y_train)\n",
    "clf_knn.best_params_"
   ]
  },
  {
   "cell_type": "code",
   "execution_count": 15,
   "id": "432d6b1d",
   "metadata": {},
   "outputs": [
    {
     "name": "stdout",
     "output_type": "stream",
     "text": [
      "              precision    recall  f1-score   support\n",
      "\n",
      "      setosa       1.00      1.00      1.00        35\n",
      "  versicolor       1.00      1.00      1.00        36\n",
      "   virginica       1.00      1.00      1.00        34\n",
      "\n",
      "    accuracy                           1.00       105\n",
      "   macro avg       1.00      1.00      1.00       105\n",
      "weighted avg       1.00      1.00      1.00       105\n",
      "\n"
     ]
    }
   ],
   "source": [
    "print(classification_report(y_train, clf_knn.predict(x_train_n)))"
   ]
  },
  {
   "cell_type": "code",
   "execution_count": 16,
   "id": "822f2ca0",
   "metadata": {},
   "outputs": [
    {
     "name": "stdout",
     "output_type": "stream",
     "text": [
      "              precision    recall  f1-score   support\n",
      "\n",
      "      setosa       1.00      1.00      1.00        15\n",
      "  versicolor       0.88      1.00      0.93        14\n",
      "   virginica       1.00      0.88      0.93        16\n",
      "\n",
      "    accuracy                           0.96        45\n",
      "   macro avg       0.96      0.96      0.96        45\n",
      "weighted avg       0.96      0.96      0.96        45\n",
      "\n"
     ]
    }
   ],
   "source": [
    "print(classification_report(y_test, clf_knn.predict(x_test_n)))"
   ]
  },
  {
   "cell_type": "code",
   "execution_count": 17,
   "id": "2d05ab6d",
   "metadata": {},
   "outputs": [
    {
     "name": "stdout",
     "output_type": "stream",
     "text": [
      "[[0.0931695  0.09623859 0.1191498  0.12964602 0.12968298 0.13948947]\n",
      " [0.06815469 0.07462186 0.07900826 0.08516003 0.0931695  0.09955754]\n",
      " [0.04520949 0.05892557 0.08326121 0.11175347 0.12622514 0.13287921]\n",
      " [0.02941176 0.05393468 0.06148178 0.07462186 0.08996252 0.09495586]\n",
      " [0.04166667 0.04520949 0.05393468 0.06815469 0.06815469 0.07328879]\n",
      " [0.05393468 0.10285708 0.11086777 0.11086777 0.1127389  0.12643215]\n",
      " [0.02941176 0.0950823  0.09914316 0.11175347 0.12136685 0.12296356]\n",
      " [0.10610226 0.10888995 0.12983123 0.13635343 0.14083834 0.14353366]\n",
      " [0.04578428 0.05263158 0.05393468 0.08508946 0.08837135 0.10369535]\n",
      " [0.10700766 0.11157307 0.13766759 0.14253545 0.157053   0.16228814]\n",
      " [0.15427441 0.21789022 0.24941142 0.28973944 0.31087424 0.39046104]\n",
      " [0.06138399 0.08017148 0.08333333 0.08823529 0.10381115 0.11157307]\n",
      " [0.05882353 0.07893219 0.08508946 0.11086777 0.1184389  0.12019222]\n",
      " [0.07418966 0.0985623  0.11320973 0.11353851 0.15682333 0.16861029]\n",
      " [0.12296356 0.13130226 0.16970485 0.19023259 0.21112938 0.24051808]\n",
      " [0.06138399 0.06585798 0.0720855  0.07893219 0.08508946 0.09914316]\n",
      " [0.13130226 0.14837113 0.20138458 0.2036155  0.2164786  0.21921601]\n",
      " [0.30903859 0.34169662 0.36464558 0.41941056 0.42310649 0.42392423]\n",
      " [0.09770162 0.10369535 0.10381115 0.13274351 0.13869429 0.13925873]\n",
      " [0.05882353 0.12381133 0.13869429 0.14722213 0.15619341 0.16180405]\n",
      " [0.04520949 0.08508946 0.09035252 0.09926427 0.10610226 0.12451575]\n",
      " [0.05393468 0.06138399 0.06190566 0.06858112 0.06858112 0.0720855 ]\n",
      " [0.10369535 0.18206873 0.18945992 0.2012756  0.20821796 0.21245915]\n",
      " [0.04578428 0.08430514 0.10381115 0.10381115 0.12951374 0.13130226]\n",
      " [0.07462186 0.10610226 0.11086777 0.15347755 0.1775098  0.1776113 ]\n",
      " [0.05393468 0.09009597 0.12094257 0.12210998 0.13228755 0.13948947]\n",
      " [0.0985623  0.10350091 0.15109326 0.18200273 0.18343876 0.18677563]\n",
      " [0.         0.09035252 0.09926427 0.13500431 0.13814922 0.15682333]\n",
      " [0.09041898 0.11563698 0.11696792 0.13500431 0.13925873 0.15215372]\n",
      " [0.07017544 0.10610226 0.12633709 0.12643215 0.12951374 0.16187829]\n",
      " [0.0510016  0.06148178 0.06585798 0.08516003 0.0950823  0.09914316]\n",
      " [0.07462186 0.09163413 0.10969024 0.11157307 0.12210998 0.13121072]\n",
      " [0.05393468 0.0720855  0.08017148 0.08017148 0.08837135 0.09495586]\n",
      " [0.04166667 0.05393468 0.05393468 0.08326121 0.08837135 0.10350091]\n",
      " [0.23510864 0.35203346 0.35635044 0.3877862  0.4030171  0.40458307]\n",
      " [0.09850133 0.11097608 0.17998504 0.18781723 0.20569095 0.21577082]\n",
      " [0.08161313 0.0985623  0.13063443 0.14353366 0.1582902  0.16187829]\n",
      " [0.15543712 0.18781723 0.20066543 0.20700183 0.21381306 0.22895282]\n",
      " [0.07462186 0.10369535 0.1075429  0.11157307 0.12951374 0.16228814]\n",
      " [0.09926427 0.10561668 0.14633743 0.22795286 0.23357581 0.24241034]\n",
      " [0.06190566 0.09163413 0.11097608 0.13274351 0.17165614 0.1775098 ]\n",
      " [0.09926427 0.12451575 0.15825224 0.1670828  0.19159296 0.2179234 ]\n",
      " [0.0510016  0.07418966 0.0985623  0.13716224 0.13948947 0.15408531]\n",
      " [0.03424674 0.06029208 0.14188444 0.15359493 0.15400732 0.15918394]\n",
      " [0.05263158 0.09156855 0.11353851 0.11353851 0.13130226 0.13421163]]\n",
      "[[ 93 100  46  61  68  86]\n",
      " [ 77  82  64  30  42  95]\n",
      " [ 12  28 103  85  82  16]\n",
      " [ 30  95  82  64  59  70]\n",
      " [ 54  80  21  92 102  26]\n",
      " [ 51  15   7  48  81  33]\n",
      " [103   9  12   4  28  85]\n",
      " [ 29  93  87  88  46  86]\n",
      " [ 73  84  36  54  59  95]\n",
      " [  1  67  45  48  79   5]\n",
      " [ 78  17  20  58  81  27]\n",
      " [ 73  36  44  84  18  99]\n",
      " [100  71  52  68  46  93]\n",
      " [ 15  51  33   3   2   6]\n",
      " [ 27  58  20  67  81  51]\n",
      " [ 30  82  95  70  64   9]\n",
      " [ 29  87  93  66  10  88]\n",
      " [101  27  17  81  58  33]\n",
      " [ 71  79  52  93 100   1]\n",
      " [ 39  63  37  61  76  32]\n",
      " [ 62  22  90  74  60  69]\n",
      " [ 54  36  80  92 102  21]\n",
      " [ 34  76  46  50  39  86]\n",
      " [ 33   3   6  56   7  51]\n",
      " [ 67   1  75  52  71  79]\n",
      " [ 88  50  49  29  57  98]\n",
      " [ 57  50  34  39  76  86]\n",
      " [ 97  35  94  57  29  88]\n",
      " [ 62  22  69  74  90  61]\n",
      " [ 85   4  28 103  12   8]\n",
      " [ 16  64  82  30  12 103]\n",
      " [ 90  60  22  61  74  62]\n",
      " [ 82  30  70  64 103   9]\n",
      " [ 82  64  30  16  95 103]\n",
      " [101  17  27  33   6  81]\n",
      " [  0  13  24  41  69  22]\n",
      " [ 28  12 103  85  82  42]\n",
      " [ 49  98  91  10  88  83]\n",
      " [ 34   1  75  52  46  71]\n",
      " [ 38  66  87  98  43  11]\n",
      " [ 25 104   2  56   3   6]\n",
      " [ 78  17  20  58  81  27]\n",
      " [ 45  10  48   5  49  91]\n",
      " [ 50  57  86  97  88  29]\n",
      " [ 59  30  99  95  16  64]]\n"
     ]
    }
   ],
   "source": [
    "distances, indices = clf_knn.best_estimator_.kneighbors(x_test_n)\n",
    "print(distances)\n",
    "print(indices)"
   ]
  },
  {
   "cell_type": "code",
   "execution_count": 24,
   "id": "ec8e6f36",
   "metadata": {},
   "outputs": [
    {
     "name": "stdout",
     "output_type": "stream",
     "text": [
      "127\n",
      "Test instanca -----------------\n",
      "Sepal_Length    6.1\n",
      "Sepal_Width     3.0\n",
      "Petal_Length    4.9\n",
      "Petal_Width     1.8\n",
      "Name: 127, dtype: float64\n",
      "Prava klasa -------------------\n"
     ]
    },
    {
     "ename": "IndexError",
     "evalue": "single positional indexer is out-of-bounds",
     "output_type": "error",
     "traceback": [
      "\u001b[0;31m---------------------------------------------------------------------------\u001b[0m",
      "\u001b[0;31mIndexError\u001b[0m                                Traceback (most recent call last)",
      "Input \u001b[0;32mIn [24]\u001b[0m, in \u001b[0;36m<cell line: 2>\u001b[0;34m()\u001b[0m\n\u001b[1;32m      5\u001b[0m \u001b[38;5;28mprint\u001b[39m(row)\n\u001b[1;32m      6\u001b[0m \u001b[38;5;28mprint\u001b[39m(\u001b[38;5;124m\"\u001b[39m\u001b[38;5;124mPrava klasa -------------------\u001b[39m\u001b[38;5;124m\"\u001b[39m)\n\u001b[0;32m----> 7\u001b[0m \u001b[38;5;28mprint\u001b[39m(\u001b[43my_test\u001b[49m\u001b[38;5;241;43m.\u001b[39;49m\u001b[43miloc\u001b[49m\u001b[43m[\u001b[49m\u001b[43mi\u001b[49m\u001b[43m]\u001b[49m)\n\u001b[1;32m      8\u001b[0m \u001b[38;5;28mprint\u001b[39m(\u001b[38;5;124m\"\u001b[39m\u001b[38;5;124mDodeljena klasa ---------------\u001b[39m\u001b[38;5;124m\"\u001b[39m)\n\u001b[1;32m      9\u001b[0m \u001b[38;5;28mprint\u001b[39m(y_test_pred[i])\n",
      "File \u001b[0;32m~/.local/lib/python3.8/site-packages/pandas/core/indexing.py:967\u001b[0m, in \u001b[0;36m_LocationIndexer.__getitem__\u001b[0;34m(self, key)\u001b[0m\n\u001b[1;32m    964\u001b[0m axis \u001b[38;5;241m=\u001b[39m \u001b[38;5;28mself\u001b[39m\u001b[38;5;241m.\u001b[39maxis \u001b[38;5;129;01mor\u001b[39;00m \u001b[38;5;241m0\u001b[39m\n\u001b[1;32m    966\u001b[0m maybe_callable \u001b[38;5;241m=\u001b[39m com\u001b[38;5;241m.\u001b[39mapply_if_callable(key, \u001b[38;5;28mself\u001b[39m\u001b[38;5;241m.\u001b[39mobj)\n\u001b[0;32m--> 967\u001b[0m \u001b[38;5;28;01mreturn\u001b[39;00m \u001b[38;5;28;43mself\u001b[39;49m\u001b[38;5;241;43m.\u001b[39;49m\u001b[43m_getitem_axis\u001b[49m\u001b[43m(\u001b[49m\u001b[43mmaybe_callable\u001b[49m\u001b[43m,\u001b[49m\u001b[43m \u001b[49m\u001b[43maxis\u001b[49m\u001b[38;5;241;43m=\u001b[39;49m\u001b[43maxis\u001b[49m\u001b[43m)\u001b[49m\n",
      "File \u001b[0;32m~/.local/lib/python3.8/site-packages/pandas/core/indexing.py:1520\u001b[0m, in \u001b[0;36m_iLocIndexer._getitem_axis\u001b[0;34m(self, key, axis)\u001b[0m\n\u001b[1;32m   1517\u001b[0m     \u001b[38;5;28;01mraise\u001b[39;00m \u001b[38;5;167;01mTypeError\u001b[39;00m(\u001b[38;5;124m\"\u001b[39m\u001b[38;5;124mCannot index by location index with a non-integer key\u001b[39m\u001b[38;5;124m\"\u001b[39m)\n\u001b[1;32m   1519\u001b[0m \u001b[38;5;66;03m# validate the location\u001b[39;00m\n\u001b[0;32m-> 1520\u001b[0m \u001b[38;5;28;43mself\u001b[39;49m\u001b[38;5;241;43m.\u001b[39;49m\u001b[43m_validate_integer\u001b[49m\u001b[43m(\u001b[49m\u001b[43mkey\u001b[49m\u001b[43m,\u001b[49m\u001b[43m \u001b[49m\u001b[43maxis\u001b[49m\u001b[43m)\u001b[49m\n\u001b[1;32m   1522\u001b[0m \u001b[38;5;28;01mreturn\u001b[39;00m \u001b[38;5;28mself\u001b[39m\u001b[38;5;241m.\u001b[39mobj\u001b[38;5;241m.\u001b[39m_ixs(key, axis\u001b[38;5;241m=\u001b[39maxis)\n",
      "File \u001b[0;32m~/.local/lib/python3.8/site-packages/pandas/core/indexing.py:1452\u001b[0m, in \u001b[0;36m_iLocIndexer._validate_integer\u001b[0;34m(self, key, axis)\u001b[0m\n\u001b[1;32m   1450\u001b[0m len_axis \u001b[38;5;241m=\u001b[39m \u001b[38;5;28mlen\u001b[39m(\u001b[38;5;28mself\u001b[39m\u001b[38;5;241m.\u001b[39mobj\u001b[38;5;241m.\u001b[39m_get_axis(axis))\n\u001b[1;32m   1451\u001b[0m \u001b[38;5;28;01mif\u001b[39;00m key \u001b[38;5;241m>\u001b[39m\u001b[38;5;241m=\u001b[39m len_axis \u001b[38;5;129;01mor\u001b[39;00m key \u001b[38;5;241m<\u001b[39m \u001b[38;5;241m-\u001b[39mlen_axis:\n\u001b[0;32m-> 1452\u001b[0m     \u001b[38;5;28;01mraise\u001b[39;00m \u001b[38;5;167;01mIndexError\u001b[39;00m(\u001b[38;5;124m\"\u001b[39m\u001b[38;5;124msingle positional indexer is out-of-bounds\u001b[39m\u001b[38;5;124m\"\u001b[39m)\n",
      "\u001b[0;31mIndexError\u001b[0m: single positional indexer is out-of-bounds"
     ]
    }
   ],
   "source": [
    "y_test_pred = clf_knn.predict(x_test_n)\n",
    "for i, row in x_test.iterrows():\n",
    "    print(i)\n",
    "    print(\"Test instanca -----------------\")\n",
    "    print(row)\n",
    "    print(\"Prava klasa -------------------\")\n",
    "    print(y_test.iloc[i])\n",
    "    print(\"Dodeljena klasa ---------------\")\n",
    "    print(y_test_pred[i])\n",
    "    print(\"Susedi ------------------------\")\n",
    "    for j, d in zip(indices[i], distances[i]):\n",
    "        print(j,d)\n",
    "        print(y_train[j], d)\n",
    "    print(\"-------------------------------\")\n",
    "    \n",
    "    print()"
   ]
  },
  {
   "cell_type": "code",
   "execution_count": null,
   "id": "7e05a1a1",
   "metadata": {},
   "outputs": [],
   "source": []
  }
 ],
 "metadata": {
  "kernelspec": {
   "display_name": "Python 3 (ipykernel)",
   "language": "python",
   "name": "python3"
  },
  "language_info": {
   "codemirror_mode": {
    "name": "ipython",
    "version": 3
   },
   "file_extension": ".py",
   "mimetype": "text/x-python",
   "name": "python",
   "nbconvert_exporter": "python",
   "pygments_lexer": "ipython3",
   "version": "3.8.10"
  }
 },
 "nbformat": 4,
 "nbformat_minor": 5
}
