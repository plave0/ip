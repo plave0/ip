{
 "cells": [
  {
   "cell_type": "code",
   "execution_count": 1,
   "id": "48963dac",
   "metadata": {},
   "outputs": [],
   "source": [
    "import pandas as pd"
   ]
  },
  {
   "cell_type": "code",
   "execution_count": 2,
   "id": "99bf265d",
   "metadata": {},
   "outputs": [],
   "source": [
    "from sklearn.model_selection import train_test_split"
   ]
  },
  {
   "cell_type": "code",
   "execution_count": 3,
   "id": "0fdbd615",
   "metadata": {},
   "outputs": [],
   "source": [
    "from sklearn.tree import DecisionTreeClassifier"
   ]
  },
  {
   "cell_type": "code",
   "execution_count": 4,
   "id": "25694058",
   "metadata": {},
   "outputs": [],
   "source": [
    "from sklearn.model_selection import GridSearchCV"
   ]
  },
  {
   "cell_type": "code",
   "execution_count": 5,
   "id": "7952be81",
   "metadata": {},
   "outputs": [],
   "source": [
    "from sklearn.metrics import classification_report"
   ]
  },
  {
   "cell_type": "code",
   "execution_count": 6,
   "id": "72573557",
   "metadata": {},
   "outputs": [
    {
     "data": {
      "text/html": [
       "<div>\n",
       "<style scoped>\n",
       "    .dataframe tbody tr th:only-of-type {\n",
       "        vertical-align: middle;\n",
       "    }\n",
       "\n",
       "    .dataframe tbody tr th {\n",
       "        vertical-align: top;\n",
       "    }\n",
       "\n",
       "    .dataframe thead th {\n",
       "        text-align: right;\n",
       "    }\n",
       "</style>\n",
       "<table border=\"1\" class=\"dataframe\">\n",
       "  <thead>\n",
       "    <tr style=\"text-align: right;\">\n",
       "      <th></th>\n",
       "      <th>Sepal_Length</th>\n",
       "      <th>Sepal_Width</th>\n",
       "      <th>Petal_Length</th>\n",
       "      <th>Petal_Width</th>\n",
       "      <th>Species</th>\n",
       "    </tr>\n",
       "  </thead>\n",
       "  <tbody>\n",
       "    <tr>\n",
       "      <th>0</th>\n",
       "      <td>5.1</td>\n",
       "      <td>3.5</td>\n",
       "      <td>1.4</td>\n",
       "      <td>0.2</td>\n",
       "      <td>setosa</td>\n",
       "    </tr>\n",
       "    <tr>\n",
       "      <th>1</th>\n",
       "      <td>4.9</td>\n",
       "      <td>3.0</td>\n",
       "      <td>1.4</td>\n",
       "      <td>0.2</td>\n",
       "      <td>setosa</td>\n",
       "    </tr>\n",
       "    <tr>\n",
       "      <th>2</th>\n",
       "      <td>4.7</td>\n",
       "      <td>3.2</td>\n",
       "      <td>1.3</td>\n",
       "      <td>0.2</td>\n",
       "      <td>setosa</td>\n",
       "    </tr>\n",
       "    <tr>\n",
       "      <th>3</th>\n",
       "      <td>4.6</td>\n",
       "      <td>3.1</td>\n",
       "      <td>1.5</td>\n",
       "      <td>0.2</td>\n",
       "      <td>setosa</td>\n",
       "    </tr>\n",
       "    <tr>\n",
       "      <th>4</th>\n",
       "      <td>5.0</td>\n",
       "      <td>3.6</td>\n",
       "      <td>1.4</td>\n",
       "      <td>0.2</td>\n",
       "      <td>setosa</td>\n",
       "    </tr>\n",
       "  </tbody>\n",
       "</table>\n",
       "</div>"
      ],
      "text/plain": [
       "   Sepal_Length  Sepal_Width  Petal_Length  Petal_Width Species\n",
       "0           5.1          3.5           1.4          0.2  setosa\n",
       "1           4.9          3.0           1.4          0.2  setosa\n",
       "2           4.7          3.2           1.3          0.2  setosa\n",
       "3           4.6          3.1           1.5          0.2  setosa\n",
       "4           5.0          3.6           1.4          0.2  setosa"
      ]
     },
     "execution_count": 6,
     "metadata": {},
     "output_type": "execute_result"
    }
   ],
   "source": [
    "df = pd.read_csv(\"data/iris.csv\")\n",
    "df.head()"
   ]
  },
  {
   "cell_type": "code",
   "execution_count": 7,
   "id": "9268759f",
   "metadata": {},
   "outputs": [],
   "source": [
    "features = df.columns[:-1].tolist()\n",
    "x = df[features]\n",
    "y = df[\"Species\"]"
   ]
  },
  {
   "cell_type": "code",
   "execution_count": 8,
   "id": "11e73e5a",
   "metadata": {},
   "outputs": [],
   "source": [
    "x_train, x_test, y_train, y_test = train_test_split(x, y, test_size=0.3)"
   ]
  },
  {
   "cell_type": "code",
   "execution_count": 9,
   "id": "1bcab2c5",
   "metadata": {},
   "outputs": [],
   "source": [
    "parameters = [{\"criterion\":['gini', 'entropy'], \n",
    "               \"max_depth\": [2, 3, 4], \n",
    "               \"min_samples_leaf\": [2, 3, 4, 5]}]\n",
    "clf = GridSearchCV(DecisionTreeClassifier(), param_grid=parameters, cv=5)"
   ]
  },
  {
   "cell_type": "code",
   "execution_count": 10,
   "id": "61964a45",
   "metadata": {},
   "outputs": [
    {
     "data": {
      "text/plain": [
       "GridSearchCV(cv=5, estimator=DecisionTreeClassifier(),\n",
       "             param_grid=[{'criterion': ['gini', 'entropy'],\n",
       "                          'max_depth': [2, 3, 4],\n",
       "                          'min_samples_leaf': [2, 3, 4, 5]}])"
      ]
     },
     "execution_count": 10,
     "metadata": {},
     "output_type": "execute_result"
    }
   ],
   "source": [
    "clf.fit(x_train, y_train)"
   ]
  },
  {
   "cell_type": "code",
   "execution_count": 11,
   "id": "4fee4bd4",
   "metadata": {},
   "outputs": [
    {
     "data": {
      "text/plain": [
       "{'criterion': 'gini', 'max_depth': 3, 'min_samples_leaf': 2}"
      ]
     },
     "execution_count": 11,
     "metadata": {},
     "output_type": "execute_result"
    }
   ],
   "source": [
    "clf.best_params_"
   ]
  },
  {
   "cell_type": "code",
   "execution_count": 12,
   "id": "1d6401dc",
   "metadata": {},
   "outputs": [
    {
     "name": "stdout",
     "output_type": "stream",
     "text": [
      "              precision    recall  f1-score   support\n",
      "\n",
      "      setosa       1.00      1.00      1.00        39\n",
      "  versicolor       1.00      0.94      0.97        33\n",
      "   virginica       0.94      1.00      0.97        33\n",
      "\n",
      "    accuracy                           0.98       105\n",
      "   macro avg       0.98      0.98      0.98       105\n",
      "weighted avg       0.98      0.98      0.98       105\n",
      "\n"
     ]
    }
   ],
   "source": [
    "print(classification_report(y_train, clf.predict(x_train)))"
   ]
  },
  {
   "cell_type": "code",
   "execution_count": 13,
   "id": "b67c0c72",
   "metadata": {},
   "outputs": [
    {
     "name": "stdout",
     "output_type": "stream",
     "text": [
      "              precision    recall  f1-score   support\n",
      "\n",
      "      setosa       1.00      1.00      1.00        11\n",
      "  versicolor       1.00      0.82      0.90        17\n",
      "   virginica       0.85      1.00      0.92        17\n",
      "\n",
      "    accuracy                           0.93        45\n",
      "   macro avg       0.95      0.94      0.94        45\n",
      "weighted avg       0.94      0.93      0.93        45\n",
      "\n"
     ]
    }
   ],
   "source": [
    "print(classification_report(y_test, clf.predict(x_test)))"
   ]
  },
  {
   "cell_type": "code",
   "execution_count": 14,
   "id": "f2694a31",
   "metadata": {
    "scrolled": false
   },
   "outputs": [
    {
     "data": {
      "text/plain": [
       "{'mean_fit_time': array([0.00473962, 0.00335541, 0.0034627 , 0.00341463, 0.0039773 ,\n",
       "        0.00335274, 0.00336151, 0.0030499 , 0.00304198, 0.00370255,\n",
       "        0.00396204, 0.00345945, 0.00319061, 0.00320544, 0.00324368,\n",
       "        0.00321021, 0.00322104, 0.00321388, 0.00322151, 0.00342722,\n",
       "        0.00322623, 0.00323215, 0.00324464, 0.00318022]),\n",
       " 'std_fit_time': array([1.44700198e-03, 7.23925499e-05, 5.34388099e-04, 2.24704673e-04,\n",
       "        1.43692291e-03, 5.25384106e-05, 6.66759883e-05, 3.74366472e-04,\n",
       "        4.29299780e-04, 3.46338504e-04, 1.47953204e-04, 2.95965722e-05,\n",
       "        2.10951810e-05, 2.51766407e-05, 5.71311811e-05, 2.15589465e-05,\n",
       "        3.74986269e-05, 3.44298222e-05, 3.50661780e-05, 3.72222378e-04,\n",
       "        4.04664252e-05, 2.61412029e-05, 3.95570840e-05, 5.28006244e-05]),\n",
       " 'mean_score_time': array([0.00295057, 0.00254006, 0.00261984, 0.00256524, 0.00237694,\n",
       "        0.00243626, 0.00243092, 0.00229945, 0.00239587, 0.00269108,\n",
       "        0.00280781, 0.00250826, 0.00232158, 0.00232487, 0.00236845,\n",
       "        0.00232925, 0.00236268, 0.00232906, 0.00255623, 0.00233326,\n",
       "        0.00229769, 0.00231833, 0.00235047, 0.00232267]),\n",
       " 'std_score_time': array([4.85068317e-04, 2.01936590e-04, 5.36513082e-04, 3.58796835e-04,\n",
       "        3.20754431e-05, 3.55662988e-05, 2.25529358e-05, 1.94973146e-04,\n",
       "        1.20958747e-04, 2.24814303e-04, 8.72129036e-05, 1.94223214e-05,\n",
       "        3.65624355e-05, 1.06104572e-05, 6.23414209e-05, 1.75218030e-05,\n",
       "        4.55823402e-05, 4.50797522e-05, 4.45286399e-04, 2.87685781e-05,\n",
       "        7.32772279e-05, 8.82780004e-06, 2.22844733e-05, 3.34398525e-05]),\n",
       " 'param_criterion': masked_array(data=['gini', 'gini', 'gini', 'gini', 'gini', 'gini', 'gini',\n",
       "                    'gini', 'gini', 'gini', 'gini', 'gini', 'entropy',\n",
       "                    'entropy', 'entropy', 'entropy', 'entropy', 'entropy',\n",
       "                    'entropy', 'entropy', 'entropy', 'entropy', 'entropy',\n",
       "                    'entropy'],\n",
       "              mask=[False, False, False, False, False, False, False, False,\n",
       "                    False, False, False, False, False, False, False, False,\n",
       "                    False, False, False, False, False, False, False, False],\n",
       "        fill_value='?',\n",
       "             dtype=object),\n",
       " 'param_max_depth': masked_array(data=[2, 2, 2, 2, 3, 3, 3, 3, 4, 4, 4, 4, 2, 2, 2, 2, 3, 3,\n",
       "                    3, 3, 4, 4, 4, 4],\n",
       "              mask=[False, False, False, False, False, False, False, False,\n",
       "                    False, False, False, False, False, False, False, False,\n",
       "                    False, False, False, False, False, False, False, False],\n",
       "        fill_value='?',\n",
       "             dtype=object),\n",
       " 'param_min_samples_leaf': masked_array(data=[2, 3, 4, 5, 2, 3, 4, 5, 2, 3, 4, 5, 2, 3, 4, 5, 2, 3,\n",
       "                    4, 5, 2, 3, 4, 5],\n",
       "              mask=[False, False, False, False, False, False, False, False,\n",
       "                    False, False, False, False, False, False, False, False,\n",
       "                    False, False, False, False, False, False, False, False],\n",
       "        fill_value='?',\n",
       "             dtype=object),\n",
       " 'params': [{'criterion': 'gini', 'max_depth': 2, 'min_samples_leaf': 2},\n",
       "  {'criterion': 'gini', 'max_depth': 2, 'min_samples_leaf': 3},\n",
       "  {'criterion': 'gini', 'max_depth': 2, 'min_samples_leaf': 4},\n",
       "  {'criterion': 'gini', 'max_depth': 2, 'min_samples_leaf': 5},\n",
       "  {'criterion': 'gini', 'max_depth': 3, 'min_samples_leaf': 2},\n",
       "  {'criterion': 'gini', 'max_depth': 3, 'min_samples_leaf': 3},\n",
       "  {'criterion': 'gini', 'max_depth': 3, 'min_samples_leaf': 4},\n",
       "  {'criterion': 'gini', 'max_depth': 3, 'min_samples_leaf': 5},\n",
       "  {'criterion': 'gini', 'max_depth': 4, 'min_samples_leaf': 2},\n",
       "  {'criterion': 'gini', 'max_depth': 4, 'min_samples_leaf': 3},\n",
       "  {'criterion': 'gini', 'max_depth': 4, 'min_samples_leaf': 4},\n",
       "  {'criterion': 'gini', 'max_depth': 4, 'min_samples_leaf': 5},\n",
       "  {'criterion': 'entropy', 'max_depth': 2, 'min_samples_leaf': 2},\n",
       "  {'criterion': 'entropy', 'max_depth': 2, 'min_samples_leaf': 3},\n",
       "  {'criterion': 'entropy', 'max_depth': 2, 'min_samples_leaf': 4},\n",
       "  {'criterion': 'entropy', 'max_depth': 2, 'min_samples_leaf': 5},\n",
       "  {'criterion': 'entropy', 'max_depth': 3, 'min_samples_leaf': 2},\n",
       "  {'criterion': 'entropy', 'max_depth': 3, 'min_samples_leaf': 3},\n",
       "  {'criterion': 'entropy', 'max_depth': 3, 'min_samples_leaf': 4},\n",
       "  {'criterion': 'entropy', 'max_depth': 3, 'min_samples_leaf': 5},\n",
       "  {'criterion': 'entropy', 'max_depth': 4, 'min_samples_leaf': 2},\n",
       "  {'criterion': 'entropy', 'max_depth': 4, 'min_samples_leaf': 3},\n",
       "  {'criterion': 'entropy', 'max_depth': 4, 'min_samples_leaf': 4},\n",
       "  {'criterion': 'entropy', 'max_depth': 4, 'min_samples_leaf': 5}],\n",
       " 'split0_test_score': array([0.9047619, 0.9047619, 0.9047619, 0.9047619, 0.9047619, 0.9047619,\n",
       "        0.9047619, 0.9047619, 0.9047619, 0.9047619, 0.9047619, 0.9047619,\n",
       "        0.9047619, 0.9047619, 0.9047619, 0.9047619, 0.9047619, 0.9047619,\n",
       "        0.9047619, 0.9047619, 0.9047619, 0.9047619, 0.9047619, 0.9047619]),\n",
       " 'split1_test_score': array([0.95238095, 0.95238095, 0.95238095, 0.95238095, 0.95238095,\n",
       "        0.95238095, 0.95238095, 0.95238095, 0.95238095, 0.95238095,\n",
       "        0.95238095, 0.95238095, 0.95238095, 0.95238095, 0.95238095,\n",
       "        0.95238095, 0.95238095, 0.95238095, 0.95238095, 0.95238095,\n",
       "        0.95238095, 0.95238095, 0.95238095, 0.95238095]),\n",
       " 'split2_test_score': array([0.95238095, 0.95238095, 0.95238095, 0.95238095, 1.        ,\n",
       "        1.        , 1.        , 1.        , 0.95238095, 1.        ,\n",
       "        1.        , 1.        , 0.95238095, 0.95238095, 0.95238095,\n",
       "        0.95238095, 1.        , 1.        , 1.        , 1.        ,\n",
       "        0.95238095, 1.        , 1.        , 1.        ]),\n",
       " 'split3_test_score': array([0.9047619 , 0.9047619 , 0.9047619 , 0.9047619 , 0.95238095,\n",
       "        0.95238095, 0.9047619 , 0.9047619 , 0.95238095, 0.95238095,\n",
       "        0.9047619 , 0.9047619 , 0.9047619 , 0.9047619 , 0.9047619 ,\n",
       "        0.9047619 , 0.95238095, 0.95238095, 0.9047619 , 0.9047619 ,\n",
       "        0.95238095, 0.95238095, 0.9047619 , 0.9047619 ]),\n",
       " 'split4_test_score': array([0.95238095, 0.95238095, 0.95238095, 0.95238095, 1.        ,\n",
       "        1.        , 1.        , 0.95238095, 0.95238095, 1.        ,\n",
       "        1.        , 1.        , 0.95238095, 0.95238095, 0.95238095,\n",
       "        0.95238095, 1.        , 1.        , 1.        , 0.95238095,\n",
       "        0.95238095, 1.        , 1.        , 1.        ]),\n",
       " 'mean_test_score': array([0.93333333, 0.93333333, 0.93333333, 0.93333333, 0.96190476,\n",
       "        0.96190476, 0.95238095, 0.94285714, 0.94285714, 0.96190476,\n",
       "        0.95238095, 0.95238095, 0.93333333, 0.93333333, 0.93333333,\n",
       "        0.93333333, 0.96190476, 0.96190476, 0.95238095, 0.94285714,\n",
       "        0.94285714, 0.96190476, 0.95238095, 0.95238095]),\n",
       " 'std_test_score': array([0.02332847, 0.02332847, 0.02332847, 0.02332847, 0.03563483,\n",
       "        0.03563483, 0.04259177, 0.03563483, 0.01904762, 0.03563483,\n",
       "        0.04259177, 0.04259177, 0.02332847, 0.02332847, 0.02332847,\n",
       "        0.02332847, 0.03563483, 0.03563483, 0.04259177, 0.03563483,\n",
       "        0.01904762, 0.03563483, 0.04259177, 0.04259177]),\n",
       " 'rank_test_score': array([17, 17, 17, 17,  1,  1,  7, 13, 13,  1,  7,  7, 17, 17, 17, 17,  1,\n",
       "         1,  7, 13, 13,  1,  7,  7], dtype=int32)}"
      ]
     },
     "execution_count": 14,
     "metadata": {},
     "output_type": "execute_result"
    }
   ],
   "source": [
    "clf.cv_results_"
   ]
  },
  {
   "cell_type": "code",
   "execution_count": 15,
   "id": "61154e79",
   "metadata": {},
   "outputs": [
    {
     "name": "stdout",
     "output_type": "stream",
     "text": [
      "{'criterion': 'gini', 'max_depth': 2, 'min_samples_leaf': 2} 0.9333333333333332 +/- 0.06998542122237644\n",
      "{'criterion': 'gini', 'max_depth': 2, 'min_samples_leaf': 3} 0.9333333333333332 +/- 0.06998542122237644\n",
      "{'criterion': 'gini', 'max_depth': 2, 'min_samples_leaf': 4} 0.9333333333333332 +/- 0.06998542122237644\n",
      "{'criterion': 'gini', 'max_depth': 2, 'min_samples_leaf': 5} 0.9333333333333332 +/- 0.06998542122237644\n",
      "{'criterion': 'gini', 'max_depth': 3, 'min_samples_leaf': 2} 0.9619047619047618 +/- 0.10690449676496977\n",
      "{'criterion': 'gini', 'max_depth': 3, 'min_samples_leaf': 3} 0.9619047619047618 +/- 0.10690449676496977\n",
      "{'criterion': 'gini', 'max_depth': 3, 'min_samples_leaf': 4} 0.9523809523809523 +/- 0.12777531299998796\n",
      "{'criterion': 'gini', 'max_depth': 3, 'min_samples_leaf': 5} 0.9428571428571428 +/- 0.10690449676496973\n",
      "{'criterion': 'gini', 'max_depth': 4, 'min_samples_leaf': 2} 0.9428571428571428 +/- 0.057142857142857065\n",
      "{'criterion': 'gini', 'max_depth': 4, 'min_samples_leaf': 3} 0.9619047619047618 +/- 0.10690449676496977\n",
      "{'criterion': 'gini', 'max_depth': 4, 'min_samples_leaf': 4} 0.9523809523809523 +/- 0.12777531299998796\n",
      "{'criterion': 'gini', 'max_depth': 4, 'min_samples_leaf': 5} 0.9523809523809523 +/- 0.12777531299998796\n",
      "{'criterion': 'entropy', 'max_depth': 2, 'min_samples_leaf': 2} 0.9333333333333332 +/- 0.06998542122237644\n",
      "{'criterion': 'entropy', 'max_depth': 2, 'min_samples_leaf': 3} 0.9333333333333332 +/- 0.06998542122237644\n",
      "{'criterion': 'entropy', 'max_depth': 2, 'min_samples_leaf': 4} 0.9333333333333332 +/- 0.06998542122237644\n",
      "{'criterion': 'entropy', 'max_depth': 2, 'min_samples_leaf': 5} 0.9333333333333332 +/- 0.06998542122237644\n",
      "{'criterion': 'entropy', 'max_depth': 3, 'min_samples_leaf': 2} 0.9619047619047618 +/- 0.10690449676496977\n",
      "{'criterion': 'entropy', 'max_depth': 3, 'min_samples_leaf': 3} 0.9619047619047618 +/- 0.10690449676496977\n",
      "{'criterion': 'entropy', 'max_depth': 3, 'min_samples_leaf': 4} 0.9523809523809523 +/- 0.12777531299998796\n",
      "{'criterion': 'entropy', 'max_depth': 3, 'min_samples_leaf': 5} 0.9428571428571428 +/- 0.10690449676496973\n",
      "{'criterion': 'entropy', 'max_depth': 4, 'min_samples_leaf': 2} 0.9428571428571428 +/- 0.057142857142857065\n",
      "{'criterion': 'entropy', 'max_depth': 4, 'min_samples_leaf': 3} 0.9619047619047618 +/- 0.10690449676496977\n",
      "{'criterion': 'entropy', 'max_depth': 4, 'min_samples_leaf': 4} 0.9523809523809523 +/- 0.12777531299998796\n",
      "{'criterion': 'entropy', 'max_depth': 4, 'min_samples_leaf': 5} 0.9523809523809523 +/- 0.12777531299998796\n"
     ]
    }
   ],
   "source": [
    "for param, acc, std in zip(clf.cv_results_['params'], clf.cv_results_['mean_test_score'], clf.cv_results_['std_test_score']):\n",
    "    print(param, acc, '+/-', 3 * std)"
   ]
  }
 ],
 "metadata": {
  "kernelspec": {
   "display_name": "Python 3 (ipykernel)",
   "language": "python",
   "name": "python3"
  },
  "language_info": {
   "codemirror_mode": {
    "name": "ipython",
    "version": 3
   },
   "file_extension": ".py",
   "mimetype": "text/x-python",
   "name": "python",
   "nbconvert_exporter": "python",
   "pygments_lexer": "ipython3",
   "version": "3.8.10"
  }
 },
 "nbformat": 4,
 "nbformat_minor": 5
}
