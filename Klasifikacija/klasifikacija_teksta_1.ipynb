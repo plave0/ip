{
 "cells": [
  {
   "cell_type": "markdown",
   "id": "2ad7b9cb",
   "metadata": {},
   "source": [
    "# Klasifikacija teksta 1"
   ]
  },
  {
   "cell_type": "markdown",
   "id": "ef07632c",
   "metadata": {},
   "source": [
    "## Biblioteke"
   ]
  },
  {
   "cell_type": "code",
   "execution_count": 2,
   "id": "9ede0245",
   "metadata": {},
   "outputs": [],
   "source": [
    "import pandas as pd\n",
    "from sklearn.naive_bayes import MultinomialNB\n",
    "from sklearn.feature_extraction.text import CountVectorizer, TfidfTransformer, TfidfVectorizer"
   ]
  },
  {
   "cell_type": "markdown",
   "id": "01a9e356",
   "metadata": {},
   "source": [
    "*CountVectorizer* - Klasa koja za niz tekstova pravi matricu frekvencije. Povratna vrednost transformacije je klasa koja služi za predstavljanje retkih matrica."
   ]
  },
  {
   "cell_type": "markdown",
   "id": "d572fce0",
   "metadata": {},
   "source": [
    "## Podaci\n",
    "U nizu *corpus* veštački kreiramo tekstove. U nizu *classes* smeštamo informaciju o tome da je dati tekst o Kini ili nije."
   ]
  },
  {
   "cell_type": "code",
   "execution_count": 4,
   "id": "64ec62d3",
   "metadata": {},
   "outputs": [],
   "source": [
    "corpus = [\"Chinese Beijing Chinese\", \n",
    "         \"Chinese Chinese Changhai\",\n",
    "          \"Chinese Macao\",\n",
    "         \"Tokyo Japan Chinese\"]\n",
    "\n",
    "classes = [\"yes\", \"yes\", \"yes\", \"no\"]"
   ]
  },
  {
   "cell_type": "markdown",
   "id": "aeb648e5",
   "metadata": {},
   "source": [
    "## Preprocesiranje"
   ]
  },
  {
   "cell_type": "code",
   "execution_count": 5,
   "id": "c6285be5",
   "metadata": {},
   "outputs": [
    {
     "data": {
      "text/plain": [
       "CountVectorizer()"
      ]
     },
     "execution_count": 5,
     "metadata": {},
     "output_type": "execute_result"
    }
   ],
   "source": [
    "vectorizer = CountVectorizer()\n",
    "vectorizer.fit(corpus)"
   ]
  },
  {
   "cell_type": "code",
   "execution_count": 8,
   "id": "0c2dfc0e",
   "metadata": {
    "scrolled": false
   },
   "outputs": [],
   "source": [
    "X_train = vectorizer.transform(corpus)"
   ]
  },
  {
   "cell_type": "code",
   "execution_count": 16,
   "id": "74fe28b1",
   "metadata": {},
   "outputs": [
    {
     "data": {
      "text/plain": [
       "['beijing', 'changhai', 'chinese', 'japan', 'macao', 'tokyo']"
      ]
     },
     "execution_count": 16,
     "metadata": {},
     "output_type": "execute_result"
    }
   ],
   "source": [
    "words = vectorizer.get_feature_names()\n",
    "words"
   ]
  },
  {
   "cell_type": "code",
   "execution_count": 17,
   "id": "300603b8",
   "metadata": {},
   "outputs": [
    {
     "data": {
      "text/html": [
       "<div>\n",
       "<style scoped>\n",
       "    .dataframe tbody tr th:only-of-type {\n",
       "        vertical-align: middle;\n",
       "    }\n",
       "\n",
       "    .dataframe tbody tr th {\n",
       "        vertical-align: top;\n",
       "    }\n",
       "\n",
       "    .dataframe thead th {\n",
       "        text-align: right;\n",
       "    }\n",
       "</style>\n",
       "<table border=\"1\" class=\"dataframe\">\n",
       "  <thead>\n",
       "    <tr style=\"text-align: right;\">\n",
       "      <th></th>\n",
       "      <th>beijing</th>\n",
       "      <th>changhai</th>\n",
       "      <th>chinese</th>\n",
       "      <th>japan</th>\n",
       "      <th>macao</th>\n",
       "      <th>tokyo</th>\n",
       "    </tr>\n",
       "  </thead>\n",
       "  <tbody>\n",
       "    <tr>\n",
       "      <th>0</th>\n",
       "      <td>1</td>\n",
       "      <td>0</td>\n",
       "      <td>2</td>\n",
       "      <td>0</td>\n",
       "      <td>0</td>\n",
       "      <td>0</td>\n",
       "    </tr>\n",
       "    <tr>\n",
       "      <th>1</th>\n",
       "      <td>0</td>\n",
       "      <td>1</td>\n",
       "      <td>2</td>\n",
       "      <td>0</td>\n",
       "      <td>0</td>\n",
       "      <td>0</td>\n",
       "    </tr>\n",
       "    <tr>\n",
       "      <th>2</th>\n",
       "      <td>0</td>\n",
       "      <td>0</td>\n",
       "      <td>1</td>\n",
       "      <td>0</td>\n",
       "      <td>1</td>\n",
       "      <td>0</td>\n",
       "    </tr>\n",
       "    <tr>\n",
       "      <th>3</th>\n",
       "      <td>0</td>\n",
       "      <td>0</td>\n",
       "      <td>1</td>\n",
       "      <td>1</td>\n",
       "      <td>0</td>\n",
       "      <td>1</td>\n",
       "    </tr>\n",
       "  </tbody>\n",
       "</table>\n",
       "</div>"
      ],
      "text/plain": [
       "   beijing  changhai  chinese  japan  macao  tokyo\n",
       "0        1         0        2      0      0      0\n",
       "1        0         1        2      0      0      0\n",
       "2        0         0        1      0      1      0\n",
       "3        0         0        1      1      0      1"
      ]
     },
     "execution_count": 17,
     "metadata": {},
     "output_type": "execute_result"
    }
   ],
   "source": [
    "X_train = pd.DataFrame(X_train.toarray(), columns=words)\n",
    "X_train"
   ]
  },
  {
   "cell_type": "markdown",
   "id": "cb3ce8d0",
   "metadata": {},
   "source": [
    "## Treniranje modela\n",
    "Za treniranje klasifikatora teksta, najbolje performanse donosi multinomijalni najivni Bajesov algoritam."
   ]
  },
  {
   "cell_type": "code",
   "execution_count": 18,
   "id": "5934505d",
   "metadata": {
    "scrolled": true
   },
   "outputs": [
    {
     "data": {
      "text/plain": [
       "MultinomialNB()"
      ]
     },
     "execution_count": 18,
     "metadata": {},
     "output_type": "execute_result"
    }
   ],
   "source": [
    "model = MultinomialNB()\n",
    "model.fit(X_train, classes)"
   ]
  },
  {
   "cell_type": "markdown",
   "id": "e3b0c5e5",
   "metadata": {},
   "source": [
    "## Primer klasifikacije"
   ]
  },
  {
   "cell_type": "code",
   "execution_count": 20,
   "id": "742f4fbb",
   "metadata": {},
   "outputs": [],
   "source": [
    "test_doc = [\"Chinese Chinese Chinese Tokyo Japan\"]"
   ]
  },
  {
   "cell_type": "code",
   "execution_count": 22,
   "id": "c9dcca80",
   "metadata": {},
   "outputs": [],
   "source": [
    "X_test = vectorizer.transform(test_doc)\n",
    "X_test = pd.DataFrame(X_test.toarray(), columns=words)"
   ]
  },
  {
   "cell_type": "code",
   "execution_count": 23,
   "id": "bfbadbd5",
   "metadata": {},
   "outputs": [
    {
     "data": {
      "text/plain": [
       "array(['yes'], dtype='<U3')"
      ]
     },
     "execution_count": 23,
     "metadata": {},
     "output_type": "execute_result"
    }
   ],
   "source": [
    "model.predict(X_test)"
   ]
  }
 ],
 "metadata": {
  "kernelspec": {
   "display_name": "Python 3 (ipykernel)",
   "language": "python",
   "name": "python3"
  },
  "language_info": {
   "codemirror_mode": {
    "name": "ipython",
    "version": 3
   },
   "file_extension": ".py",
   "mimetype": "text/x-python",
   "name": "python",
   "nbconvert_exporter": "python",
   "pygments_lexer": "ipython3",
   "version": "3.10.4"
  }
 },
 "nbformat": 4,
 "nbformat_minor": 5
}
