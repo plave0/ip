{
 "cells": [
  {
   "cell_type": "markdown",
   "id": "05cfb81b",
   "metadata": {},
   "source": [
    "# Mašina potpornih vektora"
   ]
  },
  {
   "cell_type": "code",
   "execution_count": 1,
   "id": "b4459201",
   "metadata": {},
   "outputs": [],
   "source": [
    "import pandas as pd"
   ]
  },
  {
   "cell_type": "code",
   "execution_count": 2,
   "id": "92e62869",
   "metadata": {},
   "outputs": [],
   "source": [
    "import numpy as np"
   ]
  },
  {
   "cell_type": "markdown",
   "id": "967632f7",
   "metadata": {},
   "source": [
    "## Podaci"
   ]
  },
  {
   "cell_type": "code",
   "execution_count": 3,
   "id": "fad5a18b",
   "metadata": {},
   "outputs": [
    {
     "data": {
      "text/html": [
       "<div>\n",
       "<style scoped>\n",
       "    .dataframe tbody tr th:only-of-type {\n",
       "        vertical-align: middle;\n",
       "    }\n",
       "\n",
       "    .dataframe tbody tr th {\n",
       "        vertical-align: top;\n",
       "    }\n",
       "\n",
       "    .dataframe thead th {\n",
       "        text-align: right;\n",
       "    }\n",
       "</style>\n",
       "<table border=\"1\" class=\"dataframe\">\n",
       "  <thead>\n",
       "    <tr style=\"text-align: right;\">\n",
       "      <th></th>\n",
       "      <th>Sepal_Length</th>\n",
       "      <th>Sepal_Width</th>\n",
       "      <th>Petal_Length</th>\n",
       "      <th>Petal_Width</th>\n",
       "      <th>Species</th>\n",
       "    </tr>\n",
       "  </thead>\n",
       "  <tbody>\n",
       "    <tr>\n",
       "      <th>0</th>\n",
       "      <td>5.1</td>\n",
       "      <td>3.5</td>\n",
       "      <td>1.4</td>\n",
       "      <td>0.2</td>\n",
       "      <td>setosa</td>\n",
       "    </tr>\n",
       "    <tr>\n",
       "      <th>1</th>\n",
       "      <td>4.9</td>\n",
       "      <td>3.0</td>\n",
       "      <td>1.4</td>\n",
       "      <td>0.2</td>\n",
       "      <td>setosa</td>\n",
       "    </tr>\n",
       "    <tr>\n",
       "      <th>2</th>\n",
       "      <td>4.7</td>\n",
       "      <td>3.2</td>\n",
       "      <td>1.3</td>\n",
       "      <td>0.2</td>\n",
       "      <td>setosa</td>\n",
       "    </tr>\n",
       "    <tr>\n",
       "      <th>3</th>\n",
       "      <td>4.6</td>\n",
       "      <td>3.1</td>\n",
       "      <td>1.5</td>\n",
       "      <td>0.2</td>\n",
       "      <td>setosa</td>\n",
       "    </tr>\n",
       "    <tr>\n",
       "      <th>4</th>\n",
       "      <td>5.0</td>\n",
       "      <td>3.6</td>\n",
       "      <td>1.4</td>\n",
       "      <td>0.2</td>\n",
       "      <td>setosa</td>\n",
       "    </tr>\n",
       "  </tbody>\n",
       "</table>\n",
       "</div>"
      ],
      "text/plain": [
       "   Sepal_Length  Sepal_Width  Petal_Length  Petal_Width Species\n",
       "0           5.1          3.5           1.4          0.2  setosa\n",
       "1           4.9          3.0           1.4          0.2  setosa\n",
       "2           4.7          3.2           1.3          0.2  setosa\n",
       "3           4.6          3.1           1.5          0.2  setosa\n",
       "4           5.0          3.6           1.4          0.2  setosa"
      ]
     },
     "execution_count": 3,
     "metadata": {},
     "output_type": "execute_result"
    }
   ],
   "source": [
    "df = pd.read_csv(\"../data/iris.csv\")\n",
    "df.head()"
   ]
  },
  {
   "cell_type": "code",
   "execution_count": 4,
   "id": "861555ab",
   "metadata": {},
   "outputs": [
    {
     "data": {
      "text/plain": [
       "Index(['Sepal_Length', 'Sepal_Width', 'Petal_Length', 'Petal_Width'], dtype='object')"
      ]
     },
     "execution_count": 4,
     "metadata": {},
     "output_type": "execute_result"
    }
   ],
   "source": [
    "features = df.columns[:-1]\n",
    "features"
   ]
  },
  {
   "cell_type": "code",
   "execution_count": 5,
   "id": "2cafc7ab",
   "metadata": {},
   "outputs": [
    {
     "name": "stdout",
     "output_type": "stream",
     "text": [
      "(150, 4)\n",
      "(150,)\n"
     ]
    }
   ],
   "source": [
    "X = df[features]\n",
    "y = df[\"Species\"]\n",
    "print(X.shape)\n",
    "print(y.shape)"
   ]
  },
  {
   "cell_type": "markdown",
   "id": "bb5c6844",
   "metadata": {},
   "source": [
    "## Preprocesiranje"
   ]
  },
  {
   "cell_type": "code",
   "execution_count": 6,
   "id": "7fdd1504",
   "metadata": {},
   "outputs": [],
   "source": [
    "from sklearn.model_selection import train_test_split"
   ]
  },
  {
   "cell_type": "code",
   "execution_count": 7,
   "id": "e984ce69",
   "metadata": {},
   "outputs": [],
   "source": [
    "from sklearn.preprocessing import StandardScaler"
   ]
  },
  {
   "cell_type": "code",
   "execution_count": 8,
   "id": "d5b596cf",
   "metadata": {},
   "outputs": [],
   "source": [
    "X_train, X_test, y_train, y_test = train_test_split(X, y, test_size=0.3, random_state=42, stratify=y)"
   ]
  },
  {
   "cell_type": "code",
   "execution_count": 9,
   "id": "ed51cc05",
   "metadata": {},
   "outputs": [
    {
     "data": {
      "text/plain": [
       "StandardScaler()"
      ]
     },
     "execution_count": 9,
     "metadata": {},
     "output_type": "execute_result"
    }
   ],
   "source": [
    "scaler = StandardScaler()\n",
    "scaler.fit(X_train)"
   ]
  },
  {
   "cell_type": "code",
   "execution_count": 10,
   "id": "be5cf2be",
   "metadata": {},
   "outputs": [],
   "source": [
    "X_train = scaler.transform(X_train)\n",
    "X_test = scaler.transform(X_test)"
   ]
  },
  {
   "cell_type": "markdown",
   "id": "7bac2ca2",
   "metadata": {},
   "source": [
    "## Treniranje modela"
   ]
  },
  {
   "cell_type": "code",
   "execution_count": 11,
   "id": "96d61630",
   "metadata": {},
   "outputs": [],
   "source": [
    "from sklearn.svm import SVC"
   ]
  },
  {
   "cell_type": "code",
   "execution_count": 12,
   "id": "8ac4eb40",
   "metadata": {},
   "outputs": [],
   "source": [
    "from sklearn.model_selection import GridSearchCV"
   ]
  },
  {
   "cell_type": "code",
   "execution_count": 13,
   "id": "2b5a975f",
   "metadata": {},
   "outputs": [],
   "source": [
    "params = [\n",
    "    {\n",
    "        \"C\": [2**i for i in range(-3, 3)],\n",
    "        \"kernel\": [\"poly\"], \n",
    "        \"gamma\": np.arange(0, 1, 0.1)\n",
    "    }, \n",
    "    {\n",
    "        \"C\": [2**i for i in range(-3, 3)],\n",
    "        \"kernel\": [\"linear\"]\n",
    "    }\n",
    "]"
   ]
  },
  {
   "cell_type": "code",
   "execution_count": 14,
   "id": "ea1961ec",
   "metadata": {},
   "outputs": [
    {
     "name": "stdout",
     "output_type": "stream",
     "text": [
      "Fitting 5 folds for each of 66 candidates, totalling 330 fits\n",
      "[CV 1/5] END ...C=0.125, gamma=0.0, kernel=poly;, score=0.333 total time=   0.0s\n",
      "[CV 2/5] END ...C=0.125, gamma=0.0, kernel=poly;, score=0.333 total time=   0.0s\n",
      "[CV 3/5] END ...C=0.125, gamma=0.0, kernel=poly;, score=0.333 total time=   0.0s\n",
      "[CV 4/5] END ...C=0.125, gamma=0.0, kernel=poly;, score=0.333 total time=   0.0s\n",
      "[CV 5/5] END ...C=0.125, gamma=0.0, kernel=poly;, score=0.333 total time=   0.0s\n",
      "[CV 1/5] END ...C=0.125, gamma=0.1, kernel=poly;, score=0.429 total time=   0.0s\n",
      "[CV 2/5] END ...C=0.125, gamma=0.1, kernel=poly;, score=0.762 total time=   0.0s\n",
      "[CV 3/5] END ...C=0.125, gamma=0.1, kernel=poly;, score=0.429 total time=   0.0s\n",
      "[CV 4/5] END ...C=0.125, gamma=0.1, kernel=poly;, score=0.619 total time=   0.0s\n",
      "[CV 5/5] END ...C=0.125, gamma=0.1, kernel=poly;, score=0.619 total time=   0.0s\n",
      "[CV 1/5] END ...C=0.125, gamma=0.2, kernel=poly;, score=0.810 total time=   0.0s\n",
      "[CV 2/5] END ...C=0.125, gamma=0.2, kernel=poly;, score=0.857 total time=   0.0s\n",
      "[CV 3/5] END ...C=0.125, gamma=0.2, kernel=poly;, score=0.762 total time=   0.0s\n",
      "[CV 4/5] END ...C=0.125, gamma=0.2, kernel=poly;, score=0.810 total time=   0.0s\n",
      "[CV 5/5] END ...C=0.125, gamma=0.2, kernel=poly;, score=0.714 total time=   0.0s\n",
      "[CV 1/5] END C=0.125, gamma=0.30000000000000004, kernel=poly;, score=0.905 total time=   0.0s\n",
      "[CV 2/5] END C=0.125, gamma=0.30000000000000004, kernel=poly;, score=0.857 total time=   0.0s\n",
      "[CV 3/5] END C=0.125, gamma=0.30000000000000004, kernel=poly;, score=0.810 total time=   0.0s\n",
      "[CV 4/5] END C=0.125, gamma=0.30000000000000004, kernel=poly;, score=0.905 total time=   0.0s\n",
      "[CV 5/5] END C=0.125, gamma=0.30000000000000004, kernel=poly;, score=0.810 total time=   0.0s\n",
      "[CV 1/5] END ...C=0.125, gamma=0.4, kernel=poly;, score=0.905 total time=   0.0s\n",
      "[CV 2/5] END ...C=0.125, gamma=0.4, kernel=poly;, score=0.905 total time=   0.0s\n",
      "[CV 3/5] END ...C=0.125, gamma=0.4, kernel=poly;, score=0.810 total time=   0.0s\n",
      "[CV 4/5] END ...C=0.125, gamma=0.4, kernel=poly;, score=0.905 total time=   0.0s\n",
      "[CV 5/5] END ...C=0.125, gamma=0.4, kernel=poly;, score=0.905 total time=   0.0s\n",
      "[CV 1/5] END ...C=0.125, gamma=0.5, kernel=poly;, score=0.905 total time=   0.0s\n",
      "[CV 2/5] END ...C=0.125, gamma=0.5, kernel=poly;, score=0.905 total time=   0.0s\n",
      "[CV 3/5] END ...C=0.125, gamma=0.5, kernel=poly;, score=0.857 total time=   0.0s\n",
      "[CV 4/5] END ...C=0.125, gamma=0.5, kernel=poly;, score=0.905 total time=   0.0s\n",
      "[CV 5/5] END ...C=0.125, gamma=0.5, kernel=poly;, score=0.905 total time=   0.0s\n",
      "[CV 1/5] END C=0.125, gamma=0.6000000000000001, kernel=poly;, score=0.905 total time=   0.0s\n",
      "[CV 2/5] END C=0.125, gamma=0.6000000000000001, kernel=poly;, score=0.952 total time=   0.0s\n",
      "[CV 3/5] END C=0.125, gamma=0.6000000000000001, kernel=poly;, score=0.905 total time=   0.0s\n",
      "[CV 4/5] END C=0.125, gamma=0.6000000000000001, kernel=poly;, score=0.905 total time=   0.0s\n",
      "[CV 5/5] END C=0.125, gamma=0.6000000000000001, kernel=poly;, score=1.000 total time=   0.0s\n",
      "[CV 1/5] END C=0.125, gamma=0.7000000000000001, kernel=poly;, score=0.952 total time=   0.0s\n",
      "[CV 2/5] END C=0.125, gamma=0.7000000000000001, kernel=poly;, score=0.952 total time=   0.0s\n",
      "[CV 3/5] END C=0.125, gamma=0.7000000000000001, kernel=poly;, score=0.905 total time=   0.0s\n",
      "[CV 4/5] END C=0.125, gamma=0.7000000000000001, kernel=poly;, score=0.905 total time=   0.0s\n",
      "[CV 5/5] END C=0.125, gamma=0.7000000000000001, kernel=poly;, score=1.000 total time=   0.0s\n",
      "[CV 1/5] END ...C=0.125, gamma=0.8, kernel=poly;, score=1.000 total time=   0.0s\n",
      "[CV 2/5] END ...C=0.125, gamma=0.8, kernel=poly;, score=0.952 total time=   0.0s\n",
      "[CV 3/5] END ...C=0.125, gamma=0.8, kernel=poly;, score=1.000 total time=   0.0s\n",
      "[CV 4/5] END ...C=0.125, gamma=0.8, kernel=poly;, score=0.905 total time=   0.0s\n",
      "[CV 5/5] END ...C=0.125, gamma=0.8, kernel=poly;, score=1.000 total time=   0.0s\n",
      "[CV 1/5] END ...C=0.125, gamma=0.9, kernel=poly;, score=1.000 total time=   0.0s\n",
      "[CV 2/5] END ...C=0.125, gamma=0.9, kernel=poly;, score=0.952 total time=   0.0s\n",
      "[CV 3/5] END ...C=0.125, gamma=0.9, kernel=poly;, score=1.000 total time=   0.0s\n",
      "[CV 4/5] END ...C=0.125, gamma=0.9, kernel=poly;, score=0.905 total time=   0.0s\n",
      "[CV 5/5] END ...C=0.125, gamma=0.9, kernel=poly;, score=1.000 total time=   0.0s\n",
      "[CV 1/5] END ....C=0.25, gamma=0.0, kernel=poly;, score=0.333 total time=   0.0s\n",
      "[CV 2/5] END ....C=0.25, gamma=0.0, kernel=poly;, score=0.333 total time=   0.0s\n",
      "[CV 3/5] END ....C=0.25, gamma=0.0, kernel=poly;, score=0.333 total time=   0.0s\n",
      "[CV 4/5] END ....C=0.25, gamma=0.0, kernel=poly;, score=0.333 total time=   0.0s\n",
      "[CV 5/5] END ....C=0.25, gamma=0.0, kernel=poly;, score=0.333 total time=   0.0s\n",
      "[CV 1/5] END ....C=0.25, gamma=0.1, kernel=poly;, score=0.476 total time=   0.0s\n",
      "[CV 2/5] END ....C=0.25, gamma=0.1, kernel=poly;, score=0.762 total time=   0.0s\n",
      "[CV 3/5] END ....C=0.25, gamma=0.1, kernel=poly;, score=0.571 total time=   0.0s\n",
      "[CV 4/5] END ....C=0.25, gamma=0.1, kernel=poly;, score=0.667 total time=   0.0s\n",
      "[CV 5/5] END ....C=0.25, gamma=0.1, kernel=poly;, score=0.667 total time=   0.0s\n",
      "[CV 1/5] END ....C=0.25, gamma=0.2, kernel=poly;, score=0.857 total time=   0.0s\n",
      "[CV 2/5] END ....C=0.25, gamma=0.2, kernel=poly;, score=0.857 total time=   0.0s\n",
      "[CV 3/5] END ....C=0.25, gamma=0.2, kernel=poly;, score=0.810 total time=   0.0s\n",
      "[CV 4/5] END ....C=0.25, gamma=0.2, kernel=poly;, score=0.857 total time=   0.0s\n",
      "[CV 5/5] END ....C=0.25, gamma=0.2, kernel=poly;, score=0.810 total time=   0.0s\n",
      "[CV 1/5] END C=0.25, gamma=0.30000000000000004, kernel=poly;, score=0.905 total time=   0.0s\n",
      "[CV 2/5] END C=0.25, gamma=0.30000000000000004, kernel=poly;, score=0.905 total time=   0.0s\n",
      "[CV 3/5] END C=0.25, gamma=0.30000000000000004, kernel=poly;, score=0.810 total time=   0.0s\n",
      "[CV 4/5] END C=0.25, gamma=0.30000000000000004, kernel=poly;, score=0.905 total time=   0.0s\n",
      "[CV 5/5] END C=0.25, gamma=0.30000000000000004, kernel=poly;, score=0.905 total time=   0.0s\n",
      "[CV 1/5] END ....C=0.25, gamma=0.4, kernel=poly;, score=0.905 total time=   0.0s\n",
      "[CV 2/5] END ....C=0.25, gamma=0.4, kernel=poly;, score=0.905 total time=   0.0s\n",
      "[CV 3/5] END ....C=0.25, gamma=0.4, kernel=poly;, score=0.857 total time=   0.0s\n",
      "[CV 4/5] END ....C=0.25, gamma=0.4, kernel=poly;, score=0.905 total time=   0.0s\n",
      "[CV 5/5] END ....C=0.25, gamma=0.4, kernel=poly;, score=0.905 total time=   0.0s\n",
      "[CV 1/5] END ....C=0.25, gamma=0.5, kernel=poly;, score=0.905 total time=   0.0s\n",
      "[CV 2/5] END ....C=0.25, gamma=0.5, kernel=poly;, score=0.952 total time=   0.0s\n",
      "[CV 3/5] END ....C=0.25, gamma=0.5, kernel=poly;, score=0.905 total time=   0.0s\n",
      "[CV 4/5] END ....C=0.25, gamma=0.5, kernel=poly;, score=0.905 total time=   0.0s\n",
      "[CV 5/5] END ....C=0.25, gamma=0.5, kernel=poly;, score=1.000 total time=   0.0s\n",
      "[CV 1/5] END C=0.25, gamma=0.6000000000000001, kernel=poly;, score=1.000 total time=   0.0s\n",
      "[CV 2/5] END C=0.25, gamma=0.6000000000000001, kernel=poly;, score=0.952 total time=   0.0s\n",
      "[CV 3/5] END C=0.25, gamma=0.6000000000000001, kernel=poly;, score=0.905 total time=   0.0s\n",
      "[CV 4/5] END C=0.25, gamma=0.6000000000000001, kernel=poly;, score=0.905 total time=   0.0s\n",
      "[CV 5/5] END C=0.25, gamma=0.6000000000000001, kernel=poly;, score=1.000 total time=   0.0s\n",
      "[CV 1/5] END C=0.25, gamma=0.7000000000000001, kernel=poly;, score=1.000 total time=   0.0s\n",
      "[CV 2/5] END C=0.25, gamma=0.7000000000000001, kernel=poly;, score=0.952 total time=   0.0s\n",
      "[CV 3/5] END C=0.25, gamma=0.7000000000000001, kernel=poly;, score=1.000 total time=   0.0s\n",
      "[CV 4/5] END C=0.25, gamma=0.7000000000000001, kernel=poly;, score=0.905 total time=   0.0s\n",
      "[CV 5/5] END C=0.25, gamma=0.7000000000000001, kernel=poly;, score=1.000 total time=   0.0s\n",
      "[CV 1/5] END ....C=0.25, gamma=0.8, kernel=poly;, score=1.000 total time=   0.0s\n",
      "[CV 2/5] END ....C=0.25, gamma=0.8, kernel=poly;, score=0.952 total time=   0.0s\n",
      "[CV 3/5] END ....C=0.25, gamma=0.8, kernel=poly;, score=1.000 total time=   0.0s\n",
      "[CV 4/5] END ....C=0.25, gamma=0.8, kernel=poly;, score=0.952 total time=   0.0s\n",
      "[CV 5/5] END ....C=0.25, gamma=0.8, kernel=poly;, score=0.952 total time=   0.0s\n",
      "[CV 1/5] END ....C=0.25, gamma=0.9, kernel=poly;, score=1.000 total time=   0.0s\n",
      "[CV 2/5] END ....C=0.25, gamma=0.9, kernel=poly;, score=0.952 total time=   0.0s\n",
      "[CV 3/5] END ....C=0.25, gamma=0.9, kernel=poly;, score=1.000 total time=   0.0s\n",
      "[CV 4/5] END ....C=0.25, gamma=0.9, kernel=poly;, score=0.905 total time=   0.0s\n",
      "[CV 5/5] END ....C=0.25, gamma=0.9, kernel=poly;, score=1.000 total time=   0.0s\n",
      "[CV 1/5] END .....C=0.5, gamma=0.0, kernel=poly;, score=0.333 total time=   0.0s\n",
      "[CV 2/5] END .....C=0.5, gamma=0.0, kernel=poly;, score=0.333 total time=   0.0s\n",
      "[CV 3/5] END .....C=0.5, gamma=0.0, kernel=poly;, score=0.333 total time=   0.0s\n",
      "[CV 4/5] END .....C=0.5, gamma=0.0, kernel=poly;, score=0.333 total time=   0.0s\n",
      "[CV 5/5] END .....C=0.5, gamma=0.0, kernel=poly;, score=0.333 total time=   0.0s\n",
      "[CV 1/5] END .....C=0.5, gamma=0.1, kernel=poly;, score=0.667 total time=   0.0s\n",
      "[CV 2/5] END .....C=0.5, gamma=0.1, kernel=poly;, score=0.762 total time=   0.0s\n",
      "[CV 3/5] END .....C=0.5, gamma=0.1, kernel=poly;, score=0.714 total time=   0.0s\n",
      "[CV 4/5] END .....C=0.5, gamma=0.1, kernel=poly;, score=0.762 total time=   0.0s\n",
      "[CV 5/5] END .....C=0.5, gamma=0.1, kernel=poly;, score=0.714 total time=   0.0s\n",
      "[CV 1/5] END .....C=0.5, gamma=0.2, kernel=poly;, score=0.905 total time=   0.0s\n",
      "[CV 2/5] END .....C=0.5, gamma=0.2, kernel=poly;, score=0.905 total time=   0.0s\n",
      "[CV 3/5] END .....C=0.5, gamma=0.2, kernel=poly;, score=0.810 total time=   0.0s\n",
      "[CV 4/5] END .....C=0.5, gamma=0.2, kernel=poly;, score=0.905 total time=   0.0s\n",
      "[CV 5/5] END .....C=0.5, gamma=0.2, kernel=poly;, score=0.857 total time=   0.0s\n"
     ]
    },
    {
     "name": "stdout",
     "output_type": "stream",
     "text": [
      "[CV 1/5] END C=0.5, gamma=0.30000000000000004, kernel=poly;, score=0.905 total time=   0.0s\n",
      "[CV 2/5] END C=0.5, gamma=0.30000000000000004, kernel=poly;, score=0.905 total time=   0.0s\n",
      "[CV 3/5] END C=0.5, gamma=0.30000000000000004, kernel=poly;, score=0.857 total time=   0.0s\n",
      "[CV 4/5] END C=0.5, gamma=0.30000000000000004, kernel=poly;, score=0.905 total time=   0.0s\n",
      "[CV 5/5] END C=0.5, gamma=0.30000000000000004, kernel=poly;, score=0.905 total time=   0.0s\n",
      "[CV 1/5] END .....C=0.5, gamma=0.4, kernel=poly;, score=0.905 total time=   0.0s\n",
      "[CV 2/5] END .....C=0.5, gamma=0.4, kernel=poly;, score=0.952 total time=   0.0s\n",
      "[CV 3/5] END .....C=0.5, gamma=0.4, kernel=poly;, score=0.905 total time=   0.0s\n",
      "[CV 4/5] END .....C=0.5, gamma=0.4, kernel=poly;, score=0.905 total time=   0.0s\n",
      "[CV 5/5] END .....C=0.5, gamma=0.4, kernel=poly;, score=1.000 total time=   0.0s\n",
      "[CV 1/5] END .....C=0.5, gamma=0.5, kernel=poly;, score=1.000 total time=   0.0s\n",
      "[CV 2/5] END .....C=0.5, gamma=0.5, kernel=poly;, score=0.952 total time=   0.0s\n",
      "[CV 3/5] END .....C=0.5, gamma=0.5, kernel=poly;, score=1.000 total time=   0.0s\n",
      "[CV 4/5] END .....C=0.5, gamma=0.5, kernel=poly;, score=0.905 total time=   0.0s\n",
      "[CV 5/5] END .....C=0.5, gamma=0.5, kernel=poly;, score=1.000 total time=   0.0s\n",
      "[CV 1/5] END C=0.5, gamma=0.6000000000000001, kernel=poly;, score=1.000 total time=   0.0s\n",
      "[CV 2/5] END C=0.5, gamma=0.6000000000000001, kernel=poly;, score=0.952 total time=   0.0s\n",
      "[CV 3/5] END C=0.5, gamma=0.6000000000000001, kernel=poly;, score=1.000 total time=   0.0s\n",
      "[CV 4/5] END C=0.5, gamma=0.6000000000000001, kernel=poly;, score=0.952 total time=   0.0s\n",
      "[CV 5/5] END C=0.5, gamma=0.6000000000000001, kernel=poly;, score=0.952 total time=   0.0s\n",
      "[CV 1/5] END C=0.5, gamma=0.7000000000000001, kernel=poly;, score=1.000 total time=   0.0s\n",
      "[CV 2/5] END C=0.5, gamma=0.7000000000000001, kernel=poly;, score=0.952 total time=   0.0s\n",
      "[CV 3/5] END C=0.5, gamma=0.7000000000000001, kernel=poly;, score=1.000 total time=   0.0s\n",
      "[CV 4/5] END C=0.5, gamma=0.7000000000000001, kernel=poly;, score=0.905 total time=   0.0s\n",
      "[CV 5/5] END C=0.5, gamma=0.7000000000000001, kernel=poly;, score=1.000 total time=   0.0s\n",
      "[CV 1/5] END .....C=0.5, gamma=0.8, kernel=poly;, score=0.952 total time=   0.0s\n",
      "[CV 2/5] END .....C=0.5, gamma=0.8, kernel=poly;, score=0.952 total time=   0.0s\n",
      "[CV 3/5] END .....C=0.5, gamma=0.8, kernel=poly;, score=1.000 total time=   0.0s\n",
      "[CV 4/5] END .....C=0.5, gamma=0.8, kernel=poly;, score=0.905 total time=   0.0s\n",
      "[CV 5/5] END .....C=0.5, gamma=0.8, kernel=poly;, score=1.000 total time=   0.0s\n",
      "[CV 1/5] END .....C=0.5, gamma=0.9, kernel=poly;, score=0.952 total time=   0.0s\n",
      "[CV 2/5] END .....C=0.5, gamma=0.9, kernel=poly;, score=0.952 total time=   0.0s\n",
      "[CV 3/5] END .....C=0.5, gamma=0.9, kernel=poly;, score=1.000 total time=   0.0s\n",
      "[CV 4/5] END .....C=0.5, gamma=0.9, kernel=poly;, score=0.857 total time=   0.0s\n",
      "[CV 5/5] END .....C=0.5, gamma=0.9, kernel=poly;, score=1.000 total time=   0.0s\n",
      "[CV 1/5] END .......C=1, gamma=0.0, kernel=poly;, score=0.333 total time=   0.0s\n",
      "[CV 2/5] END .......C=1, gamma=0.0, kernel=poly;, score=0.333 total time=   0.0s\n",
      "[CV 3/5] END .......C=1, gamma=0.0, kernel=poly;, score=0.333 total time=   0.0s\n",
      "[CV 4/5] END .......C=1, gamma=0.0, kernel=poly;, score=0.333 total time=   0.0s\n",
      "[CV 5/5] END .......C=1, gamma=0.0, kernel=poly;, score=0.333 total time=   0.0s\n",
      "[CV 1/5] END .......C=1, gamma=0.1, kernel=poly;, score=0.810 total time=   0.0s\n",
      "[CV 2/5] END .......C=1, gamma=0.1, kernel=poly;, score=0.857 total time=   0.0s\n",
      "[CV 3/5] END .......C=1, gamma=0.1, kernel=poly;, score=0.762 total time=   0.0s\n",
      "[CV 4/5] END .......C=1, gamma=0.1, kernel=poly;, score=0.810 total time=   0.0s\n",
      "[CV 5/5] END .......C=1, gamma=0.1, kernel=poly;, score=0.714 total time=   0.0s\n",
      "[CV 1/5] END .......C=1, gamma=0.2, kernel=poly;, score=0.905 total time=   0.0s\n",
      "[CV 2/5] END .......C=1, gamma=0.2, kernel=poly;, score=0.905 total time=   0.0s\n",
      "[CV 3/5] END .......C=1, gamma=0.2, kernel=poly;, score=0.810 total time=   0.0s\n",
      "[CV 4/5] END .......C=1, gamma=0.2, kernel=poly;, score=0.905 total time=   0.0s\n",
      "[CV 5/5] END .......C=1, gamma=0.2, kernel=poly;, score=0.905 total time=   0.0s\n",
      "[CV 1/5] END C=1, gamma=0.30000000000000004, kernel=poly;, score=0.905 total time=   0.0s\n",
      "[CV 2/5] END C=1, gamma=0.30000000000000004, kernel=poly;, score=0.952 total time=   0.0s\n",
      "[CV 3/5] END C=1, gamma=0.30000000000000004, kernel=poly;, score=0.905 total time=   0.0s\n",
      "[CV 4/5] END C=1, gamma=0.30000000000000004, kernel=poly;, score=0.905 total time=   0.0s\n",
      "[CV 5/5] END C=1, gamma=0.30000000000000004, kernel=poly;, score=1.000 total time=   0.0s\n",
      "[CV 1/5] END .......C=1, gamma=0.4, kernel=poly;, score=1.000 total time=   0.0s\n",
      "[CV 2/5] END .......C=1, gamma=0.4, kernel=poly;, score=0.952 total time=   0.0s\n",
      "[CV 3/5] END .......C=1, gamma=0.4, kernel=poly;, score=1.000 total time=   0.0s\n",
      "[CV 4/5] END .......C=1, gamma=0.4, kernel=poly;, score=0.905 total time=   0.0s\n",
      "[CV 5/5] END .......C=1, gamma=0.4, kernel=poly;, score=1.000 total time=   0.0s\n",
      "[CV 1/5] END .......C=1, gamma=0.5, kernel=poly;, score=1.000 total time=   0.0s\n",
      "[CV 2/5] END .......C=1, gamma=0.5, kernel=poly;, score=0.952 total time=   0.0s\n",
      "[CV 3/5] END .......C=1, gamma=0.5, kernel=poly;, score=1.000 total time=   0.0s\n",
      "[CV 4/5] END .......C=1, gamma=0.5, kernel=poly;, score=0.952 total time=   0.0s\n",
      "[CV 5/5] END .......C=1, gamma=0.5, kernel=poly;, score=0.952 total time=   0.0s\n",
      "[CV 1/5] END C=1, gamma=0.6000000000000001, kernel=poly;, score=1.000 total time=   0.0s\n",
      "[CV 2/5] END C=1, gamma=0.6000000000000001, kernel=poly;, score=0.952 total time=   0.0s\n",
      "[CV 3/5] END C=1, gamma=0.6000000000000001, kernel=poly;, score=1.000 total time=   0.0s\n",
      "[CV 4/5] END C=1, gamma=0.6000000000000001, kernel=poly;, score=0.905 total time=   0.0s\n",
      "[CV 5/5] END C=1, gamma=0.6000000000000001, kernel=poly;, score=1.000 total time=   0.0s\n",
      "[CV 1/5] END C=1, gamma=0.7000000000000001, kernel=poly;, score=0.952 total time=   0.0s\n",
      "[CV 2/5] END C=1, gamma=0.7000000000000001, kernel=poly;, score=0.952 total time=   0.0s\n",
      "[CV 3/5] END C=1, gamma=0.7000000000000001, kernel=poly;, score=1.000 total time=   0.0s\n",
      "[CV 4/5] END C=1, gamma=0.7000000000000001, kernel=poly;, score=0.857 total time=   0.0s\n",
      "[CV 5/5] END C=1, gamma=0.7000000000000001, kernel=poly;, score=1.000 total time=   0.0s\n",
      "[CV 1/5] END .......C=1, gamma=0.8, kernel=poly;, score=0.952 total time=   0.0s\n",
      "[CV 2/5] END .......C=1, gamma=0.8, kernel=poly;, score=0.952 total time=   0.0s\n",
      "[CV 3/5] END .......C=1, gamma=0.8, kernel=poly;, score=1.000 total time=   0.0s\n",
      "[CV 4/5] END .......C=1, gamma=0.8, kernel=poly;, score=0.857 total time=   0.0s\n",
      "[CV 5/5] END .......C=1, gamma=0.8, kernel=poly;, score=1.000 total time=   0.0s\n",
      "[CV 1/5] END .......C=1, gamma=0.9, kernel=poly;, score=0.952 total time=   0.0s\n",
      "[CV 2/5] END .......C=1, gamma=0.9, kernel=poly;, score=0.952 total time=   0.0s\n",
      "[CV 3/5] END .......C=1, gamma=0.9, kernel=poly;, score=1.000 total time=   0.0s\n",
      "[CV 4/5] END .......C=1, gamma=0.9, kernel=poly;, score=0.857 total time=   0.0s\n",
      "[CV 5/5] END .......C=1, gamma=0.9, kernel=poly;, score=1.000 total time=   0.0s\n",
      "[CV 1/5] END .......C=2, gamma=0.0, kernel=poly;, score=0.333 total time=   0.0s\n",
      "[CV 2/5] END .......C=2, gamma=0.0, kernel=poly;, score=0.333 total time=   0.0s\n",
      "[CV 3/5] END .......C=2, gamma=0.0, kernel=poly;, score=0.333 total time=   0.0s\n",
      "[CV 4/5] END .......C=2, gamma=0.0, kernel=poly;, score=0.333 total time=   0.0s\n",
      "[CV 5/5] END .......C=2, gamma=0.0, kernel=poly;, score=0.333 total time=   0.0s\n",
      "[CV 1/5] END .......C=2, gamma=0.1, kernel=poly;, score=0.857 total time=   0.0s\n",
      "[CV 2/5] END .......C=2, gamma=0.1, kernel=poly;, score=0.857 total time=   0.0s\n",
      "[CV 3/5] END .......C=2, gamma=0.1, kernel=poly;, score=0.810 total time=   0.0s\n",
      "[CV 4/5] END .......C=2, gamma=0.1, kernel=poly;, score=0.857 total time=   0.0s\n",
      "[CV 5/5] END .......C=2, gamma=0.1, kernel=poly;, score=0.810 total time=   0.0s\n",
      "[CV 1/5] END .......C=2, gamma=0.2, kernel=poly;, score=0.905 total time=   0.0s\n",
      "[CV 2/5] END .......C=2, gamma=0.2, kernel=poly;, score=0.905 total time=   0.0s\n",
      "[CV 3/5] END .......C=2, gamma=0.2, kernel=poly;, score=0.857 total time=   0.0s\n",
      "[CV 4/5] END .......C=2, gamma=0.2, kernel=poly;, score=0.905 total time=   0.0s\n",
      "[CV 5/5] END .......C=2, gamma=0.2, kernel=poly;, score=0.905 total time=   0.0s\n",
      "[CV 1/5] END C=2, gamma=0.30000000000000004, kernel=poly;, score=1.000 total time=   0.0s\n",
      "[CV 2/5] END C=2, gamma=0.30000000000000004, kernel=poly;, score=0.952 total time=   0.0s\n",
      "[CV 3/5] END C=2, gamma=0.30000000000000004, kernel=poly;, score=0.905 total time=   0.0s\n",
      "[CV 4/5] END C=2, gamma=0.30000000000000004, kernel=poly;, score=0.905 total time=   0.0s\n",
      "[CV 5/5] END C=2, gamma=0.30000000000000004, kernel=poly;, score=1.000 total time=   0.0s\n",
      "[CV 1/5] END .......C=2, gamma=0.4, kernel=poly;, score=1.000 total time=   0.0s\n",
      "[CV 2/5] END .......C=2, gamma=0.4, kernel=poly;, score=0.952 total time=   0.0s\n",
      "[CV 3/5] END .......C=2, gamma=0.4, kernel=poly;, score=1.000 total time=   0.0s\n",
      "[CV 4/5] END .......C=2, gamma=0.4, kernel=poly;, score=0.952 total time=   0.0s\n",
      "[CV 5/5] END .......C=2, gamma=0.4, kernel=poly;, score=0.952 total time=   0.0s\n",
      "[CV 1/5] END .......C=2, gamma=0.5, kernel=poly;, score=0.952 total time=   0.0s\n",
      "[CV 2/5] END .......C=2, gamma=0.5, kernel=poly;, score=0.952 total time=   0.0s\n",
      "[CV 3/5] END .......C=2, gamma=0.5, kernel=poly;, score=1.000 total time=   0.0s\n",
      "[CV 4/5] END .......C=2, gamma=0.5, kernel=poly;, score=0.905 total time=   0.0s\n",
      "[CV 5/5] END .......C=2, gamma=0.5, kernel=poly;, score=1.000 total time=   0.0s\n",
      "[CV 1/5] END C=2, gamma=0.6000000000000001, kernel=poly;, score=0.952 total time=   0.0s\n",
      "[CV 2/5] END C=2, gamma=0.6000000000000001, kernel=poly;, score=0.952 total time=   0.0s\n",
      "[CV 3/5] END C=2, gamma=0.6000000000000001, kernel=poly;, score=1.000 total time=   0.0s\n",
      "[CV 4/5] END C=2, gamma=0.6000000000000001, kernel=poly;, score=0.857 total time=   0.0s\n",
      "[CV 5/5] END C=2, gamma=0.6000000000000001, kernel=poly;, score=1.000 total time=   0.0s\n",
      "[CV 1/5] END C=2, gamma=0.7000000000000001, kernel=poly;, score=0.952 total time=   0.0s\n",
      "[CV 2/5] END C=2, gamma=0.7000000000000001, kernel=poly;, score=0.952 total time=   0.0s\n",
      "[CV 3/5] END C=2, gamma=0.7000000000000001, kernel=poly;, score=1.000 total time=   0.0s\n",
      "[CV 4/5] END C=2, gamma=0.7000000000000001, kernel=poly;, score=0.857 total time=   0.0s\n",
      "[CV 5/5] END C=2, gamma=0.7000000000000001, kernel=poly;, score=1.000 total time=   0.0s\n",
      "[CV 1/5] END .......C=2, gamma=0.8, kernel=poly;, score=0.952 total time=   0.0s\n",
      "[CV 2/5] END .......C=2, gamma=0.8, kernel=poly;, score=0.952 total time=   0.0s\n",
      "[CV 3/5] END .......C=2, gamma=0.8, kernel=poly;, score=1.000 total time=   0.0s\n",
      "[CV 4/5] END .......C=2, gamma=0.8, kernel=poly;, score=0.857 total time=   0.0s\n",
      "[CV 5/5] END .......C=2, gamma=0.8, kernel=poly;, score=1.000 total time=   0.0s\n",
      "[CV 1/5] END .......C=2, gamma=0.9, kernel=poly;, score=0.905 total time=   0.0s\n",
      "[CV 2/5] END .......C=2, gamma=0.9, kernel=poly;, score=0.905 total time=   0.0s\n",
      "[CV 3/5] END .......C=2, gamma=0.9, kernel=poly;, score=1.000 total time=   0.0s\n",
      "[CV 4/5] END .......C=2, gamma=0.9, kernel=poly;, score=0.905 total time=   0.0s\n",
      "[CV 5/5] END .......C=2, gamma=0.9, kernel=poly;, score=1.000 total time=   0.0s\n",
      "[CV 1/5] END .......C=4, gamma=0.0, kernel=poly;, score=0.333 total time=   0.0s\n",
      "[CV 2/5] END .......C=4, gamma=0.0, kernel=poly;, score=0.333 total time=   0.0s\n",
      "[CV 3/5] END .......C=4, gamma=0.0, kernel=poly;, score=0.333 total time=   0.0s\n",
      "[CV 4/5] END .......C=4, gamma=0.0, kernel=poly;, score=0.333 total time=   0.0s\n",
      "[CV 5/5] END .......C=4, gamma=0.0, kernel=poly;, score=0.333 total time=   0.0s\n",
      "[CV 1/5] END .......C=4, gamma=0.1, kernel=poly;, score=0.905 total time=   0.0s\n",
      "[CV 2/5] END .......C=4, gamma=0.1, kernel=poly;, score=0.905 total time=   0.0s\n",
      "[CV 3/5] END .......C=4, gamma=0.1, kernel=poly;, score=0.810 total time=   0.0s\n",
      "[CV 4/5] END .......C=4, gamma=0.1, kernel=poly;, score=0.905 total time=   0.0s\n",
      "[CV 5/5] END .......C=4, gamma=0.1, kernel=poly;, score=0.857 total time=   0.0s\n",
      "[CV 1/5] END .......C=4, gamma=0.2, kernel=poly;, score=0.905 total time=   0.0s\n",
      "[CV 2/5] END .......C=4, gamma=0.2, kernel=poly;, score=0.952 total time=   0.0s\n",
      "[CV 3/5] END .......C=4, gamma=0.2, kernel=poly;, score=0.905 total time=   0.0s\n",
      "[CV 4/5] END .......C=4, gamma=0.2, kernel=poly;, score=0.905 total time=   0.0s\n",
      "[CV 5/5] END .......C=4, gamma=0.2, kernel=poly;, score=1.000 total time=   0.0s\n",
      "[CV 1/5] END C=4, gamma=0.30000000000000004, kernel=poly;, score=1.000 total time=   0.0s\n",
      "[CV 2/5] END C=4, gamma=0.30000000000000004, kernel=poly;, score=0.952 total time=   0.0s\n",
      "[CV 3/5] END C=4, gamma=0.30000000000000004, kernel=poly;, score=1.000 total time=   0.0s\n",
      "[CV 4/5] END C=4, gamma=0.30000000000000004, kernel=poly;, score=0.952 total time=   0.0s\n"
     ]
    },
    {
     "name": "stdout",
     "output_type": "stream",
     "text": [
      "[CV 5/5] END C=4, gamma=0.30000000000000004, kernel=poly;, score=0.952 total time=   0.0s\n",
      "[CV 1/5] END .......C=4, gamma=0.4, kernel=poly;, score=0.952 total time=   0.0s\n",
      "[CV 2/5] END .......C=4, gamma=0.4, kernel=poly;, score=0.952 total time=   0.0s\n",
      "[CV 3/5] END .......C=4, gamma=0.4, kernel=poly;, score=1.000 total time=   0.0s\n",
      "[CV 4/5] END .......C=4, gamma=0.4, kernel=poly;, score=0.905 total time=   0.0s\n",
      "[CV 5/5] END .......C=4, gamma=0.4, kernel=poly;, score=1.000 total time=   0.0s\n",
      "[CV 1/5] END .......C=4, gamma=0.5, kernel=poly;, score=0.952 total time=   0.0s\n",
      "[CV 2/5] END .......C=4, gamma=0.5, kernel=poly;, score=0.952 total time=   0.0s\n",
      "[CV 3/5] END .......C=4, gamma=0.5, kernel=poly;, score=1.000 total time=   0.0s\n",
      "[CV 4/5] END .......C=4, gamma=0.5, kernel=poly;, score=0.857 total time=   0.0s\n",
      "[CV 5/5] END .......C=4, gamma=0.5, kernel=poly;, score=1.000 total time=   0.0s\n",
      "[CV 1/5] END C=4, gamma=0.6000000000000001, kernel=poly;, score=0.905 total time=   0.0s\n",
      "[CV 2/5] END C=4, gamma=0.6000000000000001, kernel=poly;, score=0.952 total time=   0.0s\n",
      "[CV 3/5] END C=4, gamma=0.6000000000000001, kernel=poly;, score=1.000 total time=   0.0s\n",
      "[CV 4/5] END C=4, gamma=0.6000000000000001, kernel=poly;, score=0.857 total time=   0.0s\n",
      "[CV 5/5] END C=4, gamma=0.6000000000000001, kernel=poly;, score=1.000 total time=   0.0s\n",
      "[CV 1/5] END C=4, gamma=0.7000000000000001, kernel=poly;, score=0.952 total time=   0.0s\n",
      "[CV 2/5] END C=4, gamma=0.7000000000000001, kernel=poly;, score=0.905 total time=   0.0s\n",
      "[CV 3/5] END C=4, gamma=0.7000000000000001, kernel=poly;, score=1.000 total time=   0.0s\n",
      "[CV 4/5] END C=4, gamma=0.7000000000000001, kernel=poly;, score=0.905 total time=   0.0s\n",
      "[CV 5/5] END C=4, gamma=0.7000000000000001, kernel=poly;, score=1.000 total time=   0.0s\n",
      "[CV 1/5] END .......C=4, gamma=0.8, kernel=poly;, score=0.905 total time=   0.0s\n",
      "[CV 2/5] END .......C=4, gamma=0.8, kernel=poly;, score=0.905 total time=   0.0s\n",
      "[CV 3/5] END .......C=4, gamma=0.8, kernel=poly;, score=1.000 total time=   0.0s\n",
      "[CV 4/5] END .......C=4, gamma=0.8, kernel=poly;, score=0.905 total time=   0.0s\n",
      "[CV 5/5] END .......C=4, gamma=0.8, kernel=poly;, score=1.000 total time=   0.0s\n",
      "[CV 1/5] END .......C=4, gamma=0.9, kernel=poly;, score=0.905 total time=   0.0s\n",
      "[CV 2/5] END .......C=4, gamma=0.9, kernel=poly;, score=0.905 total time=   0.0s\n",
      "[CV 3/5] END .......C=4, gamma=0.9, kernel=poly;, score=1.000 total time=   0.0s\n",
      "[CV 4/5] END .......C=4, gamma=0.9, kernel=poly;, score=0.905 total time=   0.0s\n",
      "[CV 5/5] END .......C=4, gamma=0.9, kernel=poly;, score=1.000 total time=   0.0s\n",
      "[CV 1/5] END ............C=0.125, kernel=linear;, score=0.952 total time=   0.0s\n",
      "[CV 2/5] END ............C=0.125, kernel=linear;, score=0.952 total time=   0.0s\n",
      "[CV 3/5] END ............C=0.125, kernel=linear;, score=1.000 total time=   0.0s\n",
      "[CV 4/5] END ............C=0.125, kernel=linear;, score=1.000 total time=   0.0s\n",
      "[CV 5/5] END ............C=0.125, kernel=linear;, score=1.000 total time=   0.0s\n",
      "[CV 1/5] END .............C=0.25, kernel=linear;, score=0.952 total time=   0.0s\n",
      "[CV 2/5] END .............C=0.25, kernel=linear;, score=0.952 total time=   0.0s\n",
      "[CV 3/5] END .............C=0.25, kernel=linear;, score=1.000 total time=   0.0s\n",
      "[CV 4/5] END .............C=0.25, kernel=linear;, score=0.952 total time=   0.0s\n",
      "[CV 5/5] END .............C=0.25, kernel=linear;, score=1.000 total time=   0.0s\n",
      "[CV 1/5] END ..............C=0.5, kernel=linear;, score=0.952 total time=   0.0s\n",
      "[CV 2/5] END ..............C=0.5, kernel=linear;, score=0.952 total time=   0.0s\n",
      "[CV 3/5] END ..............C=0.5, kernel=linear;, score=1.000 total time=   0.0s\n",
      "[CV 4/5] END ..............C=0.5, kernel=linear;, score=0.952 total time=   0.0s\n",
      "[CV 5/5] END ..............C=0.5, kernel=linear;, score=1.000 total time=   0.0s\n",
      "[CV 1/5] END ................C=1, kernel=linear;, score=0.952 total time=   0.0s\n",
      "[CV 2/5] END ................C=1, kernel=linear;, score=0.952 total time=   0.0s\n",
      "[CV 3/5] END ................C=1, kernel=linear;, score=1.000 total time=   0.0s\n",
      "[CV 4/5] END ................C=1, kernel=linear;, score=0.952 total time=   0.0s\n",
      "[CV 5/5] END ................C=1, kernel=linear;, score=1.000 total time=   0.0s\n",
      "[CV 1/5] END ................C=2, kernel=linear;, score=0.952 total time=   0.0s\n",
      "[CV 2/5] END ................C=2, kernel=linear;, score=0.952 total time=   0.0s\n",
      "[CV 3/5] END ................C=2, kernel=linear;, score=1.000 total time=   0.0s\n",
      "[CV 4/5] END ................C=2, kernel=linear;, score=0.952 total time=   0.0s\n",
      "[CV 5/5] END ................C=2, kernel=linear;, score=1.000 total time=   0.0s\n",
      "[CV 1/5] END ................C=4, kernel=linear;, score=0.905 total time=   0.0s\n",
      "[CV 2/5] END ................C=4, kernel=linear;, score=0.952 total time=   0.0s\n",
      "[CV 3/5] END ................C=4, kernel=linear;, score=1.000 total time=   0.0s\n",
      "[CV 4/5] END ................C=4, kernel=linear;, score=0.952 total time=   0.0s\n",
      "[CV 5/5] END ................C=4, kernel=linear;, score=0.952 total time=   0.0s\n"
     ]
    },
    {
     "data": {
      "text/plain": [
       "GridSearchCV(cv=5, estimator=SVC(),\n",
       "             param_grid=[{'C': [0.125, 0.25, 0.5, 1, 2, 4],\n",
       "                          'gamma': array([0. , 0.1, 0.2, 0.3, 0.4, 0.5, 0.6, 0.7, 0.8, 0.9]),\n",
       "                          'kernel': ['poly']},\n",
       "                         {'C': [0.125, 0.25, 0.5, 1, 2, 4],\n",
       "                          'kernel': ['linear']}],\n",
       "             scoring='accuracy', verbose=4)"
      ]
     },
     "execution_count": 14,
     "metadata": {},
     "output_type": "execute_result"
    }
   ],
   "source": [
    "model = GridSearchCV(SVC(), params, cv=5, scoring=\"accuracy\", verbose=4)\n",
    "model.fit(X_train, y_train)"
   ]
  },
  {
   "cell_type": "code",
   "execution_count": 15,
   "id": "36d08bcc",
   "metadata": {},
   "outputs": [
    {
     "data": {
      "text/plain": [
       "SVC(C=0.125, kernel='linear')"
      ]
     },
     "execution_count": 15,
     "metadata": {},
     "output_type": "execute_result"
    }
   ],
   "source": [
    "model.best_estimator_"
   ]
  },
  {
   "cell_type": "code",
   "execution_count": 16,
   "id": "a40de905",
   "metadata": {},
   "outputs": [
    {
     "data": {
      "text/plain": [
       "array([ 7, 25, 18], dtype=int32)"
      ]
     },
     "execution_count": 16,
     "metadata": {},
     "output_type": "execute_result"
    }
   ],
   "source": [
    "model.best_estimator_.n_support_"
   ]
  },
  {
   "cell_type": "code",
   "execution_count": 17,
   "id": "f7762409",
   "metadata": {},
   "outputs": [
    {
     "data": {
      "text/plain": [
       "array([ 11,  12,  20,  35,  51,  79,  84,   0,   1,  13,  19,  24,  28,\n",
       "        33,  36,  52,  54,  57,  59,  60,  63,  64,  69,  70,  75,  86,\n",
       "        90,  92,  93,  94, 101, 103,  10,  15,  21,  37,  40,  42,  49,\n",
       "        53,  55,  66,  74,  78,  81,  82,  85,  88,  96,  98], dtype=int32)"
      ]
     },
     "execution_count": 17,
     "metadata": {},
     "output_type": "execute_result"
    }
   ],
   "source": [
    "model.best_estimator_.support_"
   ]
  },
  {
   "cell_type": "markdown",
   "id": "531ee43d",
   "metadata": {},
   "source": [
    "## Evaluacija modela"
   ]
  },
  {
   "cell_type": "code",
   "execution_count": 18,
   "id": "e3fb5b8b",
   "metadata": {},
   "outputs": [],
   "source": [
    "from sklearn.metrics import accuracy_score"
   ]
  },
  {
   "cell_type": "code",
   "execution_count": 19,
   "id": "45b906eb",
   "metadata": {},
   "outputs": [],
   "source": [
    "y_pred = model.predict(X_test)"
   ]
  },
  {
   "cell_type": "code",
   "execution_count": 20,
   "id": "3c07793c",
   "metadata": {},
   "outputs": [
    {
     "data": {
      "text/plain": [
       "0.9111111111111111"
      ]
     },
     "execution_count": 20,
     "metadata": {},
     "output_type": "execute_result"
    }
   ],
   "source": [
    "accuracy_score(y_pred, y_test)"
   ]
  }
 ],
 "metadata": {
  "kernelspec": {
   "display_name": "Python 3 (ipykernel)",
   "language": "python",
   "name": "python3"
  },
  "language_info": {
   "codemirror_mode": {
    "name": "ipython",
    "version": 3
   },
   "file_extension": ".py",
   "mimetype": "text/x-python",
   "name": "python",
   "nbconvert_exporter": "python",
   "pygments_lexer": "ipython3",
   "version": "3.10.4"
  }
 },
 "nbformat": 4,
 "nbformat_minor": 5
}
